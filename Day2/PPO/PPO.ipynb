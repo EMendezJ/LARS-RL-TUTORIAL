{
 "cells": [
  {
   "cell_type": "markdown",
   "id": "2b3562ed",
   "metadata": {},
   "source": [
    "# PPO\n",
    "\n",
    "Proximal Policy Optimization\n",
    "\n",
    "### Policy gradient methods\n",
    "\n",
    "Policy gradient methods are group of RL methods that attempt to find a policy gradient, then using a gradient ascent algorithm. Generally, this involves alternating between sampling and optimization. Many samples are taken to construct a policy gradient, this policy gets optimized, then more samples are taken. In reality, there exists a large variety of policy gradient methods, each seeking to do the same thing with a distinct strategy: Utilize gradient ascent on the policy gradient.\n",
    "\n",
    "### Actor-critic structure\n",
    "\n",
    "PPO uses an actor-critic structue. This means that it uses a dynamic involving two neural networks, were one network is an actor network (also known as the policy network), that converts the observations into actions, while the other network is the critic network (also known as the value network), which evaluates the performance of the actor network by recieving the observations as a input and outputing a discounted return. In this way, both the actor and the critic are learning during training, allowing for more complex value estimations.  \n",
    "\n",
    "While actually running the agent, only the actor network is used. The critic network only exists for use during the training process.\n",
    "\n",
    "### How does PPO do this?\n",
    "\n",
    "From Proximal Polyicy Optimization paper by OpenAI: https://doi.org/10.48550/arXiv.1707.06347\n",
    "\n",
    "![Alt text](PPODescription.png)\n",
    "\n",
    "### Why PPO?\n",
    "\n",
    "PPO has been shown to excel at continous environments, which happen to be the environments that we face in robotics. It strikes a great balance between reliability and sample efficiency, outpreforming Deep Q-Networks in a variety of scenarios. Because of this, PPO is available in many of the frameworks included in IsaacLab, which we will be using next."
   ]
  },
  {
   "cell_type": "markdown",
   "id": "194d4323",
   "metadata": {},
   "source": [
    "#### Dependencies"
   ]
  },
  {
   "cell_type": "code",
   "execution_count": 5,
   "id": "45b51d0d",
   "metadata": {},
   "outputs": [
    {
     "name": "stdout",
     "output_type": "stream",
     "text": [
      "Requirement already satisfied: torch in /home/mwlgt/Documents/LARS-RL-TUTORIAL/.venv/lib/python3.10/site-packages (2.9.0)\n",
      "Requirement already satisfied: filelock in /home/mwlgt/Documents/LARS-RL-TUTORIAL/.venv/lib/python3.10/site-packages (from torch) (3.20.0)\n",
      "Requirement already satisfied: typing-extensions>=4.10.0 in /home/mwlgt/Documents/LARS-RL-TUTORIAL/.venv/lib/python3.10/site-packages (from torch) (4.15.0)\n",
      "Requirement already satisfied: sympy>=1.13.3 in /home/mwlgt/Documents/LARS-RL-TUTORIAL/.venv/lib/python3.10/site-packages (from torch) (1.14.0)\n",
      "Requirement already satisfied: networkx>=2.5.1 in /home/mwlgt/Documents/LARS-RL-TUTORIAL/.venv/lib/python3.10/site-packages (from torch) (3.4.2)\n",
      "Requirement already satisfied: jinja2 in /home/mwlgt/Documents/LARS-RL-TUTORIAL/.venv/lib/python3.10/site-packages (from torch) (3.1.6)\n",
      "Requirement already satisfied: fsspec>=0.8.5 in /home/mwlgt/Documents/LARS-RL-TUTORIAL/.venv/lib/python3.10/site-packages (from torch) (2025.9.0)\n",
      "Requirement already satisfied: nvidia-cuda-nvrtc-cu12==12.8.93 in /home/mwlgt/Documents/LARS-RL-TUTORIAL/.venv/lib/python3.10/site-packages (from torch) (12.8.93)\n",
      "Requirement already satisfied: nvidia-cuda-runtime-cu12==12.8.90 in /home/mwlgt/Documents/LARS-RL-TUTORIAL/.venv/lib/python3.10/site-packages (from torch) (12.8.90)\n",
      "Requirement already satisfied: nvidia-cuda-cupti-cu12==12.8.90 in /home/mwlgt/Documents/LARS-RL-TUTORIAL/.venv/lib/python3.10/site-packages (from torch) (12.8.90)\n",
      "Requirement already satisfied: nvidia-cudnn-cu12==9.10.2.21 in /home/mwlgt/Documents/LARS-RL-TUTORIAL/.venv/lib/python3.10/site-packages (from torch) (9.10.2.21)\n",
      "Requirement already satisfied: nvidia-cublas-cu12==12.8.4.1 in /home/mwlgt/Documents/LARS-RL-TUTORIAL/.venv/lib/python3.10/site-packages (from torch) (12.8.4.1)\n",
      "Requirement already satisfied: nvidia-cufft-cu12==11.3.3.83 in /home/mwlgt/Documents/LARS-RL-TUTORIAL/.venv/lib/python3.10/site-packages (from torch) (11.3.3.83)\n",
      "Requirement already satisfied: nvidia-curand-cu12==10.3.9.90 in /home/mwlgt/Documents/LARS-RL-TUTORIAL/.venv/lib/python3.10/site-packages (from torch) (10.3.9.90)\n",
      "Requirement already satisfied: nvidia-cusolver-cu12==11.7.3.90 in /home/mwlgt/Documents/LARS-RL-TUTORIAL/.venv/lib/python3.10/site-packages (from torch) (11.7.3.90)\n",
      "Requirement already satisfied: nvidia-cusparse-cu12==12.5.8.93 in /home/mwlgt/Documents/LARS-RL-TUTORIAL/.venv/lib/python3.10/site-packages (from torch) (12.5.8.93)\n",
      "Requirement already satisfied: nvidia-cusparselt-cu12==0.7.1 in /home/mwlgt/Documents/LARS-RL-TUTORIAL/.venv/lib/python3.10/site-packages (from torch) (0.7.1)\n",
      "Requirement already satisfied: nvidia-nccl-cu12==2.27.5 in /home/mwlgt/Documents/LARS-RL-TUTORIAL/.venv/lib/python3.10/site-packages (from torch) (2.27.5)\n",
      "Requirement already satisfied: nvidia-nvshmem-cu12==3.3.20 in /home/mwlgt/Documents/LARS-RL-TUTORIAL/.venv/lib/python3.10/site-packages (from torch) (3.3.20)\n",
      "Requirement already satisfied: nvidia-nvtx-cu12==12.8.90 in /home/mwlgt/Documents/LARS-RL-TUTORIAL/.venv/lib/python3.10/site-packages (from torch) (12.8.90)\n",
      "Requirement already satisfied: nvidia-nvjitlink-cu12==12.8.93 in /home/mwlgt/Documents/LARS-RL-TUTORIAL/.venv/lib/python3.10/site-packages (from torch) (12.8.93)\n",
      "Requirement already satisfied: nvidia-cufile-cu12==1.13.1.3 in /home/mwlgt/Documents/LARS-RL-TUTORIAL/.venv/lib/python3.10/site-packages (from torch) (1.13.1.3)\n",
      "Requirement already satisfied: triton==3.5.0 in /home/mwlgt/Documents/LARS-RL-TUTORIAL/.venv/lib/python3.10/site-packages (from torch) (3.5.0)\n",
      "Requirement already satisfied: mpmath<1.4,>=1.1.0 in /home/mwlgt/Documents/LARS-RL-TUTORIAL/.venv/lib/python3.10/site-packages (from sympy>=1.13.3->torch) (1.3.0)\n",
      "Requirement already satisfied: MarkupSafe>=2.0 in /home/mwlgt/Documents/LARS-RL-TUTORIAL/.venv/lib/python3.10/site-packages (from jinja2->torch) (3.0.3)\n",
      "Note: you may need to restart the kernel to use updated packages.\n",
      "Requirement already satisfied: torchrl in /home/mwlgt/Documents/LARS-RL-TUTORIAL/.venv/lib/python3.10/site-packages (0.10.0)\n",
      "Requirement already satisfied: torch>=2.1.0 in /home/mwlgt/Documents/LARS-RL-TUTORIAL/.venv/lib/python3.10/site-packages (from torchrl) (2.9.0)\n",
      "Requirement already satisfied: pyvers in /home/mwlgt/Documents/LARS-RL-TUTORIAL/.venv/lib/python3.10/site-packages (from torchrl) (0.1.0)\n",
      "Requirement already satisfied: numpy in /home/mwlgt/Documents/LARS-RL-TUTORIAL/.venv/lib/python3.10/site-packages (from torchrl) (2.2.6)\n",
      "Requirement already satisfied: packaging in /home/mwlgt/Documents/LARS-RL-TUTORIAL/.venv/lib/python3.10/site-packages (from torchrl) (25.0)\n",
      "Requirement already satisfied: cloudpickle in /home/mwlgt/Documents/LARS-RL-TUTORIAL/.venv/lib/python3.10/site-packages (from torchrl) (3.1.1)\n",
      "Requirement already satisfied: tensordict<0.11.0,>=0.10.0 in /home/mwlgt/Documents/LARS-RL-TUTORIAL/.venv/lib/python3.10/site-packages (from torchrl) (0.10.0)\n",
      "Requirement already satisfied: importlib_metadata in /home/mwlgt/Documents/LARS-RL-TUTORIAL/.venv/lib/python3.10/site-packages (from tensordict<0.11.0,>=0.10.0->torchrl) (8.7.0)\n",
      "Requirement already satisfied: orjson in /home/mwlgt/Documents/LARS-RL-TUTORIAL/.venv/lib/python3.10/site-packages (from tensordict<0.11.0,>=0.10.0->torchrl) (3.11.4)\n",
      "Requirement already satisfied: filelock in /home/mwlgt/Documents/LARS-RL-TUTORIAL/.venv/lib/python3.10/site-packages (from torch>=2.1.0->torchrl) (3.20.0)\n",
      "Requirement already satisfied: typing-extensions>=4.10.0 in /home/mwlgt/Documents/LARS-RL-TUTORIAL/.venv/lib/python3.10/site-packages (from torch>=2.1.0->torchrl) (4.15.0)\n",
      "Requirement already satisfied: sympy>=1.13.3 in /home/mwlgt/Documents/LARS-RL-TUTORIAL/.venv/lib/python3.10/site-packages (from torch>=2.1.0->torchrl) (1.14.0)\n",
      "Requirement already satisfied: networkx>=2.5.1 in /home/mwlgt/Documents/LARS-RL-TUTORIAL/.venv/lib/python3.10/site-packages (from torch>=2.1.0->torchrl) (3.4.2)\n",
      "Requirement already satisfied: jinja2 in /home/mwlgt/Documents/LARS-RL-TUTORIAL/.venv/lib/python3.10/site-packages (from torch>=2.1.0->torchrl) (3.1.6)\n",
      "Requirement already satisfied: fsspec>=0.8.5 in /home/mwlgt/Documents/LARS-RL-TUTORIAL/.venv/lib/python3.10/site-packages (from torch>=2.1.0->torchrl) (2025.9.0)\n",
      "Requirement already satisfied: nvidia-cuda-nvrtc-cu12==12.8.93 in /home/mwlgt/Documents/LARS-RL-TUTORIAL/.venv/lib/python3.10/site-packages (from torch>=2.1.0->torchrl) (12.8.93)\n",
      "Requirement already satisfied: nvidia-cuda-runtime-cu12==12.8.90 in /home/mwlgt/Documents/LARS-RL-TUTORIAL/.venv/lib/python3.10/site-packages (from torch>=2.1.0->torchrl) (12.8.90)\n",
      "Requirement already satisfied: nvidia-cuda-cupti-cu12==12.8.90 in /home/mwlgt/Documents/LARS-RL-TUTORIAL/.venv/lib/python3.10/site-packages (from torch>=2.1.0->torchrl) (12.8.90)\n",
      "Requirement already satisfied: nvidia-cudnn-cu12==9.10.2.21 in /home/mwlgt/Documents/LARS-RL-TUTORIAL/.venv/lib/python3.10/site-packages (from torch>=2.1.0->torchrl) (9.10.2.21)\n",
      "Requirement already satisfied: nvidia-cublas-cu12==12.8.4.1 in /home/mwlgt/Documents/LARS-RL-TUTORIAL/.venv/lib/python3.10/site-packages (from torch>=2.1.0->torchrl) (12.8.4.1)\n",
      "Requirement already satisfied: nvidia-cufft-cu12==11.3.3.83 in /home/mwlgt/Documents/LARS-RL-TUTORIAL/.venv/lib/python3.10/site-packages (from torch>=2.1.0->torchrl) (11.3.3.83)\n",
      "Requirement already satisfied: nvidia-curand-cu12==10.3.9.90 in /home/mwlgt/Documents/LARS-RL-TUTORIAL/.venv/lib/python3.10/site-packages (from torch>=2.1.0->torchrl) (10.3.9.90)\n",
      "Requirement already satisfied: nvidia-cusolver-cu12==11.7.3.90 in /home/mwlgt/Documents/LARS-RL-TUTORIAL/.venv/lib/python3.10/site-packages (from torch>=2.1.0->torchrl) (11.7.3.90)\n",
      "Requirement already satisfied: nvidia-cusparse-cu12==12.5.8.93 in /home/mwlgt/Documents/LARS-RL-TUTORIAL/.venv/lib/python3.10/site-packages (from torch>=2.1.0->torchrl) (12.5.8.93)\n",
      "Requirement already satisfied: nvidia-cusparselt-cu12==0.7.1 in /home/mwlgt/Documents/LARS-RL-TUTORIAL/.venv/lib/python3.10/site-packages (from torch>=2.1.0->torchrl) (0.7.1)\n",
      "Requirement already satisfied: nvidia-nccl-cu12==2.27.5 in /home/mwlgt/Documents/LARS-RL-TUTORIAL/.venv/lib/python3.10/site-packages (from torch>=2.1.0->torchrl) (2.27.5)\n",
      "Requirement already satisfied: nvidia-nvshmem-cu12==3.3.20 in /home/mwlgt/Documents/LARS-RL-TUTORIAL/.venv/lib/python3.10/site-packages (from torch>=2.1.0->torchrl) (3.3.20)\n",
      "Requirement already satisfied: nvidia-nvtx-cu12==12.8.90 in /home/mwlgt/Documents/LARS-RL-TUTORIAL/.venv/lib/python3.10/site-packages (from torch>=2.1.0->torchrl) (12.8.90)\n",
      "Requirement already satisfied: nvidia-nvjitlink-cu12==12.8.93 in /home/mwlgt/Documents/LARS-RL-TUTORIAL/.venv/lib/python3.10/site-packages (from torch>=2.1.0->torchrl) (12.8.93)\n",
      "Requirement already satisfied: nvidia-cufile-cu12==1.13.1.3 in /home/mwlgt/Documents/LARS-RL-TUTORIAL/.venv/lib/python3.10/site-packages (from torch>=2.1.0->torchrl) (1.13.1.3)\n",
      "Requirement already satisfied: triton==3.5.0 in /home/mwlgt/Documents/LARS-RL-TUTORIAL/.venv/lib/python3.10/site-packages (from torch>=2.1.0->torchrl) (3.5.0)\n",
      "Requirement already satisfied: mpmath<1.4,>=1.1.0 in /home/mwlgt/Documents/LARS-RL-TUTORIAL/.venv/lib/python3.10/site-packages (from sympy>=1.13.3->torch>=2.1.0->torchrl) (1.3.0)\n",
      "Requirement already satisfied: zipp>=3.20 in /home/mwlgt/Documents/LARS-RL-TUTORIAL/.venv/lib/python3.10/site-packages (from importlib_metadata->tensordict<0.11.0,>=0.10.0->torchrl) (3.23.0)\n",
      "Requirement already satisfied: MarkupSafe>=2.0 in /home/mwlgt/Documents/LARS-RL-TUTORIAL/.venv/lib/python3.10/site-packages (from jinja2->torch>=2.1.0->torchrl) (3.0.3)\n",
      "Note: you may need to restart the kernel to use updated packages.\n",
      "Requirement already satisfied: gym[mujoco] in /home/mwlgt/Documents/LARS-RL-TUTORIAL/.venv/lib/python3.10/site-packages (0.26.2)\n",
      "Requirement already satisfied: numpy>=1.18.0 in /home/mwlgt/Documents/LARS-RL-TUTORIAL/.venv/lib/python3.10/site-packages (from gym[mujoco]) (2.2.6)\n",
      "Requirement already satisfied: cloudpickle>=1.2.0 in /home/mwlgt/Documents/LARS-RL-TUTORIAL/.venv/lib/python3.10/site-packages (from gym[mujoco]) (3.1.1)\n",
      "Requirement already satisfied: gym_notices>=0.0.4 in /home/mwlgt/Documents/LARS-RL-TUTORIAL/.venv/lib/python3.10/site-packages (from gym[mujoco]) (0.1.0)\n",
      "Requirement already satisfied: mujoco==2.2 in /home/mwlgt/Documents/LARS-RL-TUTORIAL/.venv/lib/python3.10/site-packages (from gym[mujoco]) (2.2.0)\n",
      "Requirement already satisfied: imageio>=2.14.1 in /home/mwlgt/Documents/LARS-RL-TUTORIAL/.venv/lib/python3.10/site-packages (from gym[mujoco]) (2.37.0)\n",
      "Requirement already satisfied: absl-py in /home/mwlgt/Documents/LARS-RL-TUTORIAL/.venv/lib/python3.10/site-packages (from mujoco==2.2->gym[mujoco]) (2.3.1)\n",
      "Requirement already satisfied: glfw in /home/mwlgt/Documents/LARS-RL-TUTORIAL/.venv/lib/python3.10/site-packages (from mujoco==2.2->gym[mujoco]) (2.10.0)\n",
      "Requirement already satisfied: pyopengl in /home/mwlgt/Documents/LARS-RL-TUTORIAL/.venv/lib/python3.10/site-packages (from mujoco==2.2->gym[mujoco]) (3.1.10)\n",
      "Requirement already satisfied: pillow>=8.3.2 in /home/mwlgt/Documents/LARS-RL-TUTORIAL/.venv/lib/python3.10/site-packages (from imageio>=2.14.1->gym[mujoco]) (12.0.0)\n",
      "Note: you may need to restart the kernel to use updated packages.\n",
      "Requirement already satisfied: tqdm in /home/mwlgt/Documents/LARS-RL-TUTORIAL/.venv/lib/python3.10/site-packages (4.67.1)\n",
      "Note: you may need to restart the kernel to use updated packages.\n"
     ]
    }
   ],
   "source": [
    "%pip install torch\n",
    "%pip install torchrl\n",
    "%pip install gym[mujoco]\n",
    "%pip install tqdm"
   ]
  },
  {
   "cell_type": "code",
   "execution_count": 6,
   "id": "5b45ab17",
   "metadata": {},
   "outputs": [],
   "source": [
    "import warnings\n",
    "warnings.filterwarnings(\"ignore\")\n",
    "from torch import multiprocessing\n",
    "\n",
    "\n",
    "from collections import defaultdict\n",
    "\n",
    "import matplotlib.pyplot as plt\n",
    "import torch\n",
    "from tensordict.nn import TensorDictModule\n",
    "from tensordict.nn.distributions import NormalParamExtractor\n",
    "from torch import nn\n",
    "from torchrl.collectors import SyncDataCollector\n",
    "from torchrl.data.replay_buffers import ReplayBuffer\n",
    "from torchrl.data.replay_buffers.samplers import SamplerWithoutReplacement\n",
    "from torchrl.data.replay_buffers.storages import LazyTensorStorage\n",
    "from torchrl.envs import (Compose, DoubleToFloat, ObservationNorm, StepCounter,\n",
    "                          TransformedEnv)\n",
    "from torchrl.envs.libs.gym import GymEnv\n",
    "from torchrl.envs.utils import check_env_specs, ExplorationType, set_exploration_type\n",
    "from torchrl.modules import ProbabilisticActor, TanhNormal, ValueOperator\n",
    "from torchrl.objectives import ClipPPOLoss\n",
    "from torchrl.objectives.value import GAE\n",
    "from tqdm import tqdm"
   ]
  },
  {
   "cell_type": "markdown",
   "id": "1c93aabb",
   "metadata": {},
   "source": [
    "#### Define hyperparameters"
   ]
  },
  {
   "cell_type": "code",
   "execution_count": 7,
   "id": "d6352967",
   "metadata": {},
   "outputs": [
    {
     "name": "stdout",
     "output_type": "stream",
     "text": [
      "cuda:0\n"
     ]
    }
   ],
   "source": [
    "is_fork = multiprocessing.get_start_method() == \"fork\"\n",
    "device = (\n",
    "    torch.device(0)\n",
    "    if torch.cuda.is_available() and not is_fork\n",
    "    else torch.device(\"cpu\")\n",
    ")\n",
    "print(device)\n",
    "num_cells = 128  # number of cells in each layer i.e. output dim.\n",
    "lr = 3e-4\n",
    "max_grad_norm = 1.0\n",
    "\n",
    "# Data collection parameters\n",
    "\n",
    "frames_per_batch = 1000\n",
    "total_frames = 50_000\n",
    "\n",
    "# PPO parameters\n",
    "sub_batch_size = 64  # cardinality of the sub-samples gathered from the current data in the inner loop\n",
    "num_epochs = 10  # optimization steps per batch of data collected\n",
    "clip_epsilon = (\n",
    "    0.2  # clip value for PPO loss: see the equation in the intro for more context.\n",
    ")\n",
    "gamma = 0.99\n",
    "lmbda = 0.95\n",
    "entropy_eps = 1e-4"
   ]
  },
  {
   "cell_type": "markdown",
   "id": "d750a7dd",
   "metadata": {},
   "source": [
    "#### Define environment"
   ]
  },
  {
   "cell_type": "code",
   "execution_count": null,
   "id": "97a9f25e",
   "metadata": {},
   "outputs": [],
   "source": [
    "base_env = GymEnv(\"InvertedPendulum-v5\", device=device, render_mode=\"human\")"
   ]
  },
  {
   "cell_type": "markdown",
   "id": "0506fd31",
   "metadata": {},
   "source": [
    "#### Normalization"
   ]
  },
  {
   "cell_type": "code",
   "execution_count": 9,
   "id": "c2a44397",
   "metadata": {},
   "outputs": [
    {
     "name": "stdout",
     "output_type": "stream",
     "text": [
      "normalization constant shape: torch.Size([4])\n",
      "\u001b[92m2025-10-28 19:20:13,421 [torchrl][INFO]\u001b[0m    check_env_specs succeeded!\u001b[92m [END]\u001b[0m\n"
     ]
    }
   ],
   "source": [
    "env = TransformedEnv(\n",
    "    base_env,\n",
    "    Compose(\n",
    "        # normalize observations, making observations somewhat fit a gaussian distribution is preferable\n",
    "        ObservationNorm(in_keys=[\"observation\"]),\n",
    "        DoubleToFloat(),\n",
    "        StepCounter(),\n",
    "    ),\n",
    ")\n",
    "\n",
    "# Set the parameters for the ObservationNorm() transform. Defining how the observation is normalized\n",
    "env.transform[0].init_stats(num_iter=1000, reduce_dim=0, cat_dim=0)\n",
    "print(\"normalization constant shape:\", env.transform[0].loc.shape)\n",
    "\n",
    "check_env_specs(env)"
   ]
  },
  {
   "cell_type": "code",
   "execution_count": 10,
   "id": "cb385cfa",
   "metadata": {},
   "outputs": [
    {
     "name": "stdout",
     "output_type": "stream",
     "text": [
      "observation_spec: Composite(\n",
      "    observation: UnboundedContinuous(\n",
      "        shape=torch.Size([4]),\n",
      "        space=ContinuousBox(\n",
      "            low=Tensor(shape=torch.Size([4]), device=cuda:0, dtype=torch.float32, contiguous=True),\n",
      "            high=Tensor(shape=torch.Size([4]), device=cuda:0, dtype=torch.float32, contiguous=True)),\n",
      "        device=cuda:0,\n",
      "        dtype=torch.float32,\n",
      "        domain=continuous),\n",
      "    step_count: BoundedDiscrete(\n",
      "        shape=torch.Size([1]),\n",
      "        space=ContinuousBox(\n",
      "            low=Tensor(shape=torch.Size([1]), device=cuda:0, dtype=torch.int64, contiguous=True),\n",
      "            high=Tensor(shape=torch.Size([1]), device=cuda:0, dtype=torch.int64, contiguous=True)),\n",
      "        device=cuda:0,\n",
      "        dtype=torch.int64,\n",
      "        domain=discrete),\n",
      "    device=cuda:0,\n",
      "    shape=torch.Size([]),\n",
      "    data_cls=None)\n",
      "reward_spec: UnboundedContinuous(\n",
      "    shape=torch.Size([1]),\n",
      "    space=ContinuousBox(\n",
      "        low=Tensor(shape=torch.Size([1]), device=cuda:0, dtype=torch.float32, contiguous=True),\n",
      "        high=Tensor(shape=torch.Size([1]), device=cuda:0, dtype=torch.float32, contiguous=True)),\n",
      "    device=cuda:0,\n",
      "    dtype=torch.float32,\n",
      "    domain=continuous)\n",
      "input_spec: Composite(\n",
      "    full_state_spec: Composite(\n",
      "        step_count: BoundedDiscrete(\n",
      "            shape=torch.Size([1]),\n",
      "            space=ContinuousBox(\n",
      "                low=Tensor(shape=torch.Size([1]), device=cuda:0, dtype=torch.int64, contiguous=True),\n",
      "                high=Tensor(shape=torch.Size([1]), device=cuda:0, dtype=torch.int64, contiguous=True)),\n",
      "            device=cuda:0,\n",
      "            dtype=torch.int64,\n",
      "            domain=discrete),\n",
      "        device=cuda:0,\n",
      "        shape=torch.Size([]),\n",
      "        data_cls=None),\n",
      "    full_action_spec: Composite(\n",
      "        action: BoundedContinuous(\n",
      "            shape=torch.Size([1]),\n",
      "            space=ContinuousBox(\n",
      "                low=Tensor(shape=torch.Size([1]), device=cuda:0, dtype=torch.float32, contiguous=True),\n",
      "                high=Tensor(shape=torch.Size([1]), device=cuda:0, dtype=torch.float32, contiguous=True)),\n",
      "            device=cuda:0,\n",
      "            dtype=torch.float32,\n",
      "            domain=continuous),\n",
      "        device=cuda:0,\n",
      "        shape=torch.Size([]),\n",
      "        data_cls=None),\n",
      "    device=cuda:0,\n",
      "    shape=torch.Size([]),\n",
      "    data_cls=None)\n",
      "action_spec (as defined by input_spec): BoundedContinuous(\n",
      "    shape=torch.Size([1]),\n",
      "    space=ContinuousBox(\n",
      "        low=Tensor(shape=torch.Size([1]), device=cuda:0, dtype=torch.float32, contiguous=True),\n",
      "        high=Tensor(shape=torch.Size([1]), device=cuda:0, dtype=torch.float32, contiguous=True)),\n",
      "    device=cuda:0,\n",
      "    dtype=torch.float32,\n",
      "    domain=continuous)\n"
     ]
    }
   ],
   "source": [
    "print(\"observation_spec:\", env.observation_spec)\n",
    "print(\"reward_spec:\", env.reward_spec)\n",
    "print(\"input_spec:\", env.input_spec)\n",
    "print(\"action_spec (as defined by input_spec):\", env.action_spec)"
   ]
  },
  {
   "cell_type": "code",
   "execution_count": 11,
   "id": "fee84f2f",
   "metadata": {},
   "outputs": [
    {
     "name": "stdout",
     "output_type": "stream",
     "text": [
      "rollout of three steps: TensorDict(\n",
      "    fields={\n",
      "        action: Tensor(shape=torch.Size([3, 1]), device=cuda:0, dtype=torch.float32, is_shared=True),\n",
      "        done: Tensor(shape=torch.Size([3, 1]), device=cuda:0, dtype=torch.bool, is_shared=True),\n",
      "        next: TensorDict(\n",
      "            fields={\n",
      "                done: Tensor(shape=torch.Size([3, 1]), device=cuda:0, dtype=torch.bool, is_shared=True),\n",
      "                observation: Tensor(shape=torch.Size([3, 4]), device=cuda:0, dtype=torch.float32, is_shared=True),\n",
      "                reward: Tensor(shape=torch.Size([3, 1]), device=cuda:0, dtype=torch.float32, is_shared=True),\n",
      "                step_count: Tensor(shape=torch.Size([3, 1]), device=cuda:0, dtype=torch.int64, is_shared=True),\n",
      "                terminated: Tensor(shape=torch.Size([3, 1]), device=cuda:0, dtype=torch.bool, is_shared=True),\n",
      "                truncated: Tensor(shape=torch.Size([3, 1]), device=cuda:0, dtype=torch.bool, is_shared=True)},\n",
      "            batch_size=torch.Size([3]),\n",
      "            device=cuda:0,\n",
      "            is_shared=True),\n",
      "        observation: Tensor(shape=torch.Size([3, 4]), device=cuda:0, dtype=torch.float32, is_shared=True),\n",
      "        step_count: Tensor(shape=torch.Size([3, 1]), device=cuda:0, dtype=torch.int64, is_shared=True),\n",
      "        terminated: Tensor(shape=torch.Size([3, 1]), device=cuda:0, dtype=torch.bool, is_shared=True),\n",
      "        truncated: Tensor(shape=torch.Size([3, 1]), device=cuda:0, dtype=torch.bool, is_shared=True)},\n",
      "    batch_size=torch.Size([3]),\n",
      "    device=cuda:0,\n",
      "    is_shared=True)\n",
      "Shape of the rollout TensorDict: torch.Size([3])\n"
     ]
    }
   ],
   "source": [
    "rollout = env.rollout(3)\n",
    "print(\"rollout of three steps:\", rollout)\n",
    "print(\"Shape of the rollout TensorDict:\", rollout.batch_size)"
   ]
  },
  {
   "cell_type": "markdown",
   "id": "4f347b5f",
   "metadata": {},
   "source": [
    "#### Defining the policy network\n",
    "\n",
    "The policy network is what is considered as the actor in the PPO algorith. Here, the neural network produces two outputs of the size of the action space. This includes a location output and a scale output. The scale output is fixed to be positive. To fit both of these outputs in the neural network, the last transformation maps to a size of 2 times the action space size. The other tansformation are simply the number of cells, or neurons in the neural network, which were defined earlier,"
   ]
  },
  {
   "cell_type": "code",
   "execution_count": 12,
   "id": "948e5027",
   "metadata": {},
   "outputs": [],
   "source": [
    "actor_net = nn.Sequential(\n",
    "    nn.LazyLinear(num_cells, device=device),\n",
    "    nn.Tanh(),\n",
    "    nn.LazyLinear(num_cells, device=device),\n",
    "    nn.Tanh(),\n",
    "    nn.LazyLinear(num_cells, device=device),\n",
    "    nn.Tanh(),\n",
    "    nn.LazyLinear(2 * env.action_spec.shape[-1], device=device),\n",
    "    NormalParamExtractor(),\n",
    ")"
   ]
  },
  {
   "cell_type": "markdown",
   "id": "536f656c",
   "metadata": {},
   "source": [
    "#### Policy module\n",
    "\n",
    "The policy module is necessary to define the inputs and outputs of the neural network. This is where we write the two distinct outputs. "
   ]
  },
  {
   "cell_type": "code",
   "execution_count": 13,
   "id": "dcd7de82",
   "metadata": {},
   "outputs": [],
   "source": [
    "policy_module = TensorDictModule(\n",
    "    actor_net, in_keys=[\"observation\"], out_keys=[\"loc\", \"scale\"]\n",
    ")"
   ]
  },
  {
   "cell_type": "markdown",
   "id": "d7898cac",
   "metadata": {},
   "source": [
    "Then, the policy module is used to build a distribution out of the location and scale of the previous normal distribution. This uses a probablistic actor class. Minimum and maximum values are also set, which come from the environment's specifications."
   ]
  },
  {
   "cell_type": "code",
   "execution_count": 14,
   "id": "990fe7a1",
   "metadata": {},
   "outputs": [],
   "source": [
    "policy_module = ProbabilisticActor(\n",
    "    module=policy_module,\n",
    "    spec=env.action_spec,\n",
    "    in_keys=[\"loc\", \"scale\"],\n",
    "    distribution_class=TanhNormal,\n",
    "       distribution_kwargs={\n",
    "        \"low\": env.action_spec.space.low,\n",
    "        \"high\": env.action_spec.space.high,\n",
    "    },\n",
    "    return_log_prob=True,\n",
    "    # we'll need the log-prob for the numerator of the importance weights\n",
    ")"
   ]
  },
  {
   "cell_type": "markdown",
   "id": "88738192",
   "metadata": {},
   "source": [
    "### Value network\n",
    "\n",
    "The next important component of PPO is the value network. The value network is used to evaluate the actions. It is the \"critic\" in our actor-critic algorithm. It will take the observations as input and output a scalar value representing the expected return from that state. In this case the value network uses the same structure as the actor network, but with different parameters and weights."
   ]
  },
  {
   "cell_type": "code",
   "execution_count": 15,
   "id": "3b4d1616",
   "metadata": {},
   "outputs": [
    {
     "name": "stdout",
     "output_type": "stream",
     "text": [
      "Running policy: TensorDict(\n",
      "    fields={\n",
      "        action: Tensor(shape=torch.Size([1]), device=cuda:0, dtype=torch.float32, is_shared=True),\n",
      "        action_log_prob: Tensor(shape=torch.Size([]), device=cuda:0, dtype=torch.float32, is_shared=True),\n",
      "        done: Tensor(shape=torch.Size([1]), device=cuda:0, dtype=torch.bool, is_shared=True),\n",
      "        loc: Tensor(shape=torch.Size([1]), device=cuda:0, dtype=torch.float32, is_shared=True),\n",
      "        observation: Tensor(shape=torch.Size([4]), device=cuda:0, dtype=torch.float32, is_shared=True),\n",
      "        scale: Tensor(shape=torch.Size([1]), device=cuda:0, dtype=torch.float32, is_shared=True),\n",
      "        step_count: Tensor(shape=torch.Size([1]), device=cuda:0, dtype=torch.int64, is_shared=True),\n",
      "        terminated: Tensor(shape=torch.Size([1]), device=cuda:0, dtype=torch.bool, is_shared=True),\n",
      "        truncated: Tensor(shape=torch.Size([1]), device=cuda:0, dtype=torch.bool, is_shared=True)},\n",
      "    batch_size=torch.Size([]),\n",
      "    device=cuda:0,\n",
      "    is_shared=True)\n",
      "Running value: TensorDict(\n",
      "    fields={\n",
      "        done: Tensor(shape=torch.Size([1]), device=cuda:0, dtype=torch.bool, is_shared=True),\n",
      "        observation: Tensor(shape=torch.Size([4]), device=cuda:0, dtype=torch.float32, is_shared=True),\n",
      "        state_value: Tensor(shape=torch.Size([1]), device=cuda:0, dtype=torch.float32, is_shared=True),\n",
      "        step_count: Tensor(shape=torch.Size([1]), device=cuda:0, dtype=torch.int64, is_shared=True),\n",
      "        terminated: Tensor(shape=torch.Size([1]), device=cuda:0, dtype=torch.bool, is_shared=True),\n",
      "        truncated: Tensor(shape=torch.Size([1]), device=cuda:0, dtype=torch.bool, is_shared=True)},\n",
      "    batch_size=torch.Size([]),\n",
      "    device=cuda:0,\n",
      "    is_shared=True)\n"
     ]
    }
   ],
   "source": [
    "value_net = nn.Sequential(\n",
    "    nn.LazyLinear(num_cells, device=device),\n",
    "    nn.Tanh(),\n",
    "    nn.LazyLinear(num_cells, device=device),\n",
    "    nn.Tanh(),\n",
    "    nn.LazyLinear(num_cells, device=device),\n",
    "    nn.Tanh(),\n",
    "    nn.LazyLinear(1, device=device),\n",
    ")\n",
    "\n",
    "value_module = ValueOperator(\n",
    "    module=value_net,\n",
    "    in_keys=[\"observation\"],\n",
    ")\n",
    "\n",
    "print(\"Running policy:\", policy_module(env.reset()))\n",
    "print(\"Running value:\", value_module(env.reset()))"
   ]
  },
  {
   "cell_type": "markdown",
   "id": "777fc1a9",
   "metadata": {},
   "source": [
    "Replay buffer for stability"
   ]
  },
  {
   "cell_type": "code",
   "execution_count": 16,
   "id": "80ddbd33",
   "metadata": {},
   "outputs": [],
   "source": [
    "replay_buffer = ReplayBuffer(\n",
    "    storage=LazyTensorStorage(max_size=frames_per_batch),\n",
    "    sampler=SamplerWithoutReplacement(),\n",
    ")"
   ]
  },
  {
   "cell_type": "markdown",
   "id": "98f7346e",
   "metadata": {},
   "source": [
    "We will then use TorchRL's data collector class, which does three operations:\n",
    "\n",
    "1. reset the environment\n",
    "2. execute a step in the environment\n",
    "3. repeat "
   ]
  },
  {
   "cell_type": "code",
   "execution_count": 17,
   "id": "b1010441",
   "metadata": {},
   "outputs": [],
   "source": [
    "collector = SyncDataCollector(\n",
    "    env,\n",
    "    policy_module,\n",
    "    frames_per_batch=frames_per_batch,\n",
    "    total_frames=total_frames,\n",
    "    split_trajs=False,\n",
    "    device=device\n",
    ")"
   ]
  },
  {
   "cell_type": "markdown",
   "id": "cfcaebd4",
   "metadata": {},
   "source": [
    "### Loss function\n",
    "\n",
    "For PPO to function, there needs to exist an advantage estimation, which balances bias and variance. Here, we will use TorchRL's GAE (general advantage estimator) module, which uses the value network defined previously.\n",
    "\n",
    "Next, TorchRL's ClipPPOLoss is used to penalize certain actions according to PPO theory. For more details, check open AI's paper."
   ]
  },
  {
   "cell_type": "code",
   "execution_count": 18,
   "id": "e2084ecf",
   "metadata": {},
   "outputs": [],
   "source": [
    "advantage_module = GAE(\n",
    "    gamma=gamma, lmbda=lmbda, value_network=value_module, average_gae=True, device=device,\n",
    ")\n",
    "\n",
    "loss_module = ClipPPOLoss(\n",
    "    actor_network=policy_module,\n",
    "    critic_network=value_module,\n",
    "    clip_epsilon=clip_epsilon,\n",
    "    entropy_bonus=bool(entropy_eps),\n",
    "    entropy_coef=entropy_eps,\n",
    "    # these keys match by default but we set this for completeness\n",
    "    critic_coef=1.0,\n",
    "    loss_critic_type=\"smooth_l1\",\n",
    ")\n",
    "\n",
    "optim = torch.optim.Adam(loss_module.parameters(), lr)\n",
    "scheduler = torch.optim.lr_scheduler.CosineAnnealingLR(\n",
    "    optim, total_frames // frames_per_batch, 0.0\n",
    ")"
   ]
  },
  {
   "cell_type": "markdown",
   "id": "26944a89",
   "metadata": {},
   "source": [
    "### Training loop\n",
    "\n",
    "1. Collect data\n",
    "   - Compute advantage\n",
    "     1. Loop \n",
    "     2. Back propagate\n",
    "     3. optimize\n",
    "     4. Repeat\n",
    "   - Repeat\n",
    "2. Repeat"
   ]
  },
  {
   "cell_type": "code",
   "execution_count": 19,
   "id": "5d05b6eb",
   "metadata": {},
   "outputs": [
    {
     "name": "stderr",
     "output_type": "stream",
     "text": [
      "eval cumulative reward:  1000.0000 (init:  105.0000), eval step-count: 999, average reward= 1.0000 (init= 1.0000), step count (max): 999, lr policy:  0.0000: 100%|██████████| 50000/50000 [24:00<00:00, 18.36it/s] "
     ]
    }
   ],
   "source": [
    "logs = defaultdict(list)\n",
    "pbar = tqdm(total=total_frames)\n",
    "eval_str = \"\"\n",
    "\n",
    "# We iterate over the collector until it reaches the total number of frames it was\n",
    "# designed to collect:\n",
    "for i, tensordict_data in enumerate(collector):\n",
    "    # we now have a batch of data to work with. Let's learn something from it.\n",
    "    for _ in range(num_epochs):\n",
    "        # We'll need an \"advantage\" signal to make PPO work.\n",
    "        # We re-compute it at each epoch as its value depends on the value\n",
    "        # network which is updated in the inner loop.\n",
    "        advantage_module(tensordict_data)\n",
    "        data_view = tensordict_data.reshape(-1)\n",
    "        replay_buffer.extend(data_view.cpu())\n",
    "        for _ in range(frames_per_batch // sub_batch_size):\n",
    "            subdata = replay_buffer.sample(sub_batch_size)\n",
    "            loss_vals = loss_module(subdata.to(device))\n",
    "            loss_value = (\n",
    "                loss_vals[\"loss_objective\"]\n",
    "                + loss_vals[\"loss_critic\"]\n",
    "                + loss_vals[\"loss_entropy\"]\n",
    "            )\n",
    "\n",
    "            # Optimization: backward, grad clipping and optimization step\n",
    "            loss_value.backward()\n",
    "            # this is not strictly mandatory but it's good practice to keep\n",
    "            # your gradient norm bounded\n",
    "            torch.nn.utils.clip_grad_norm_(loss_module.parameters(), max_grad_norm)\n",
    "            optim.step()\n",
    "            optim.zero_grad()\n",
    "\n",
    "    logs[\"reward\"].append(tensordict_data[\"next\", \"reward\"].mean().item())\n",
    "    pbar.update(tensordict_data.numel())\n",
    "    cum_reward_str = (\n",
    "        f\"average reward={logs['reward'][-1]: 4.4f} (init={logs['reward'][0]: 4.4f})\"\n",
    "    )\n",
    "    logs[\"step_count\"].append(tensordict_data[\"step_count\"].max().item())\n",
    "    stepcount_str = f\"step count (max): {logs['step_count'][-1]}\"\n",
    "    logs[\"lr\"].append(optim.param_groups[0][\"lr\"])\n",
    "    lr_str = f\"lr policy: {logs['lr'][-1]: 4.4f}\"\n",
    "    if i % 10 == 0:\n",
    "        # We evaluate the policy once every 10 batches of data.\n",
    "        # Evaluation is rather simple: execute the policy without exploration\n",
    "        # (take the expected value of the action distribution) for a given\n",
    "        # number of steps (1000, which is our ``env`` horizon).\n",
    "        # The ``rollout`` method of the ``env`` can take a policy as argument:\n",
    "        # it will then execute this policy at each step.\n",
    "        with set_exploration_type(ExplorationType.DETERMINISTIC), torch.no_grad():\n",
    "            # execute a rollout with the trained policy\n",
    "            eval_rollout = env.rollout(1000, policy_module)\n",
    "            logs[\"eval reward\"].append(eval_rollout[\"next\", \"reward\"].mean().item())\n",
    "            logs[\"eval reward (sum)\"].append(\n",
    "                eval_rollout[\"next\", \"reward\"].sum().item()\n",
    "            )\n",
    "            logs[\"eval step_count\"].append(eval_rollout[\"step_count\"].max().item())\n",
    "            eval_str = (\n",
    "                f\"eval cumulative reward: {logs['eval reward (sum)'][-1]: 4.4f} \"\n",
    "                f\"(init: {logs['eval reward (sum)'][0]: 4.4f}), \"\n",
    "                f\"eval step-count: {logs['eval step_count'][-1]}\"\n",
    "            )\n",
    "            del eval_rollout\n",
    "    pbar.set_description(\", \".join([eval_str, cum_reward_str, stepcount_str, lr_str]))\n",
    "\n",
    "    # We're also using a learning rate scheduler. Like the gradient clipping,\n",
    "    # this is a nice-to-have but nothing necessary for PPO to work.\n",
    "    scheduler.step()"
   ]
  },
  {
   "cell_type": "markdown",
   "id": "43801e09",
   "metadata": {},
   "source": [
    "### Resuslts"
   ]
  },
  {
   "cell_type": "code",
   "execution_count": 20,
   "id": "c6606f92",
   "metadata": {},
   "outputs": [
    {
     "data": {
      "image/png": "[encoded data removed]",
      "text/plain": [
       "<Figure size 1000x1000 with 4 Axes>"
      ]
     },
     "metadata": {},
     "output_type": "display_data"
    },
    {
     "name": "stderr",
     "output_type": "stream",
     "text": [
      "eval cumulative reward:  1000.0000 (init:  105.0000), eval step-count: 999, average reward= 1.0000 (init= 1.0000), step count (max): 999, lr policy:  0.0000: 100%|██████████| 50000/50000 [24:20<00:00, 18.36it/s]"
     ]
    }
   ],
   "source": [
    "plt.figure(figsize=(10, 10))\n",
    "plt.subplot(2, 2, 1)\n",
    "plt.plot(logs[\"reward\"])\n",
    "plt.title(\"training rewards (average)\")\n",
    "plt.subplot(2, 2, 2)\n",
    "plt.plot(logs[\"step_count\"])\n",
    "plt.title(\"Max step count (training)\")\n",
    "plt.subplot(2, 2, 3)\n",
    "plt.plot(logs[\"eval reward (sum)\"])\n",
    "plt.title(\"Return (test)\")\n",
    "plt.subplot(2, 2, 4)\n",
    "plt.plot(logs[\"eval step_count\"])\n",
    "plt.title(\"Max step count (test)\")\n",
    "plt.show()"
   ]
  }
 ],
 "metadata": {
  "kernelspec": {
   "display_name": ".venv",
   "language": "python",
   "name": "python3"
  },
  "language_info": {
   "codemirror_mode": {
    "name": "ipython",
    "version": 3
   },
   "file_extension": ".py",
   "mimetype": "text/x-python",
   "name": "python",
   "nbconvert_exporter": "python",
   "pygments_lexer": "ipython3",
   "version": "3.10.12"
  }
 },
 "nbformat": 4,
 "nbformat_minor": 5
}
