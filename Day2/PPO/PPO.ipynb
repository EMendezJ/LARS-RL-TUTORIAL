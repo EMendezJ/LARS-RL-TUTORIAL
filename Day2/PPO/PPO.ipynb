{
 "cells": [
  {
   "cell_type": "markdown",
   "id": "2b3562ed",
   "metadata": {},
   "source": [
    "# PPO\n",
    "\n",
    "Proximal Policy Optimization\n",
    "\n",
    "### Policy gradient methods\n",
    "\n",
    "Policy gradient methods are group of RL methods that attempt to find a policy gradient, then using a gradient ascent algorithm. Generally, this involves alternating between sampling and optimization. Many samples are taken to construct a policy gradient, this policy gets optimized, then more samples are taken. In reality, there exists a large variety of policy gradient methods, each seeking to do the same thing with a distinct strategy: Utilize gradient ascent on the policy gradient.\n",
    "\n",
    "### Actor-critic structure\n",
    "\n",
    "\n",
    "\n",
    "### How does PPO do this?\n",
    "\n",
    "From Proximal Polyicy Optimization paper by OpenAI: https://doi.org/10.48550/arXiv.1707.06347\n",
    "\n",
    "![Alt text](PPODescription.png)\n",
    "\n",
    "### Why PPO?\n",
    "\n",
    "PPO has been shown to excel at continous environments, which happen to be the environments that we face in robotics. It strikes a great balance between reliability and sample efficiency, outpreforming Deep Q-Networks in a variety of scenarios. Because of this, PPO is available in many of the frameworks included in IsaacLab, which we will be using next."
   ]
  },
  {
   "cell_type": "markdown",
   "id": "194d4323",
   "metadata": {},
   "source": [
    "#### Dependencies"
   ]
  },
  {
   "cell_type": "code",
   "execution_count": 5,
   "id": "45b51d0d",
   "metadata": {},
   "outputs": [
    {
     "name": "stdout",
     "output_type": "stream",
     "text": [
      "Requirement already satisfied: torch in /home/mwlgt/Documents/LARS-RL-TUTORIAL/.venv/lib/python3.10/site-packages (2.9.0)\n",
      "Requirement already satisfied: filelock in /home/mwlgt/Documents/LARS-RL-TUTORIAL/.venv/lib/python3.10/site-packages (from torch) (3.20.0)\n",
      "Requirement already satisfied: typing-extensions>=4.10.0 in /home/mwlgt/Documents/LARS-RL-TUTORIAL/.venv/lib/python3.10/site-packages (from torch) (4.15.0)\n",
      "Requirement already satisfied: sympy>=1.13.3 in /home/mwlgt/Documents/LARS-RL-TUTORIAL/.venv/lib/python3.10/site-packages (from torch) (1.14.0)\n",
      "Requirement already satisfied: networkx>=2.5.1 in /home/mwlgt/Documents/LARS-RL-TUTORIAL/.venv/lib/python3.10/site-packages (from torch) (3.4.2)\n",
      "Requirement already satisfied: jinja2 in /home/mwlgt/Documents/LARS-RL-TUTORIAL/.venv/lib/python3.10/site-packages (from torch) (3.1.6)\n",
      "Requirement already satisfied: fsspec>=0.8.5 in /home/mwlgt/Documents/LARS-RL-TUTORIAL/.venv/lib/python3.10/site-packages (from torch) (2025.9.0)\n",
      "Requirement already satisfied: nvidia-cuda-nvrtc-cu12==12.8.93 in /home/mwlgt/Documents/LARS-RL-TUTORIAL/.venv/lib/python3.10/site-packages (from torch) (12.8.93)\n",
      "Requirement already satisfied: nvidia-cuda-runtime-cu12==12.8.90 in /home/mwlgt/Documents/LARS-RL-TUTORIAL/.venv/lib/python3.10/site-packages (from torch) (12.8.90)\n",
      "Requirement already satisfied: nvidia-cuda-cupti-cu12==12.8.90 in /home/mwlgt/Documents/LARS-RL-TUTORIAL/.venv/lib/python3.10/site-packages (from torch) (12.8.90)\n",
      "Requirement already satisfied: nvidia-cudnn-cu12==9.10.2.21 in /home/mwlgt/Documents/LARS-RL-TUTORIAL/.venv/lib/python3.10/site-packages (from torch) (9.10.2.21)\n",
      "Requirement already satisfied: nvidia-cublas-cu12==12.8.4.1 in /home/mwlgt/Documents/LARS-RL-TUTORIAL/.venv/lib/python3.10/site-packages (from torch) (12.8.4.1)\n",
      "Requirement already satisfied: nvidia-cufft-cu12==11.3.3.83 in /home/mwlgt/Documents/LARS-RL-TUTORIAL/.venv/lib/python3.10/site-packages (from torch) (11.3.3.83)\n",
      "Requirement already satisfied: nvidia-curand-cu12==10.3.9.90 in /home/mwlgt/Documents/LARS-RL-TUTORIAL/.venv/lib/python3.10/site-packages (from torch) (10.3.9.90)\n",
      "Requirement already satisfied: nvidia-cusolver-cu12==11.7.3.90 in /home/mwlgt/Documents/LARS-RL-TUTORIAL/.venv/lib/python3.10/site-packages (from torch) (11.7.3.90)\n",
      "Requirement already satisfied: nvidia-cusparse-cu12==12.5.8.93 in /home/mwlgt/Documents/LARS-RL-TUTORIAL/.venv/lib/python3.10/site-packages (from torch) (12.5.8.93)\n",
      "Requirement already satisfied: nvidia-cusparselt-cu12==0.7.1 in /home/mwlgt/Documents/LARS-RL-TUTORIAL/.venv/lib/python3.10/site-packages (from torch) (0.7.1)\n",
      "Requirement already satisfied: nvidia-nccl-cu12==2.27.5 in /home/mwlgt/Documents/LARS-RL-TUTORIAL/.venv/lib/python3.10/site-packages (from torch) (2.27.5)\n",
      "Requirement already satisfied: nvidia-nvshmem-cu12==3.3.20 in /home/mwlgt/Documents/LARS-RL-TUTORIAL/.venv/lib/python3.10/site-packages (from torch) (3.3.20)\n",
      "Requirement already satisfied: nvidia-nvtx-cu12==12.8.90 in /home/mwlgt/Documents/LARS-RL-TUTORIAL/.venv/lib/python3.10/site-packages (from torch) (12.8.90)\n",
      "Requirement already satisfied: nvidia-nvjitlink-cu12==12.8.93 in /home/mwlgt/Documents/LARS-RL-TUTORIAL/.venv/lib/python3.10/site-packages (from torch) (12.8.93)\n",
      "Requirement already satisfied: nvidia-cufile-cu12==1.13.1.3 in /home/mwlgt/Documents/LARS-RL-TUTORIAL/.venv/lib/python3.10/site-packages (from torch) (1.13.1.3)\n",
      "Requirement already satisfied: triton==3.5.0 in /home/mwlgt/Documents/LARS-RL-TUTORIAL/.venv/lib/python3.10/site-packages (from torch) (3.5.0)\n",
      "Requirement already satisfied: mpmath<1.4,>=1.1.0 in /home/mwlgt/Documents/LARS-RL-TUTORIAL/.venv/lib/python3.10/site-packages (from sympy>=1.13.3->torch) (1.3.0)\n",
      "Requirement already satisfied: MarkupSafe>=2.0 in /home/mwlgt/Documents/LARS-RL-TUTORIAL/.venv/lib/python3.10/site-packages (from jinja2->torch) (3.0.3)\n",
      "Note: you may need to restart the kernel to use updated packages.\n",
      "Requirement already satisfied: torchrl in /home/mwlgt/Documents/LARS-RL-TUTORIAL/.venv/lib/python3.10/site-packages (0.10.0)\n",
      "Requirement already satisfied: torch>=2.1.0 in /home/mwlgt/Documents/LARS-RL-TUTORIAL/.venv/lib/python3.10/site-packages (from torchrl) (2.9.0)\n",
      "Requirement already satisfied: pyvers in /home/mwlgt/Documents/LARS-RL-TUTORIAL/.venv/lib/python3.10/site-packages (from torchrl) (0.1.0)\n",
      "Requirement already satisfied: numpy in /home/mwlgt/Documents/LARS-RL-TUTORIAL/.venv/lib/python3.10/site-packages (from torchrl) (2.2.6)\n",
      "Requirement already satisfied: packaging in /home/mwlgt/Documents/LARS-RL-TUTORIAL/.venv/lib/python3.10/site-packages (from torchrl) (25.0)\n",
      "Requirement already satisfied: cloudpickle in /home/mwlgt/Documents/LARS-RL-TUTORIAL/.venv/lib/python3.10/site-packages (from torchrl) (3.1.1)\n",
      "Requirement already satisfied: tensordict<0.11.0,>=0.10.0 in /home/mwlgt/Documents/LARS-RL-TUTORIAL/.venv/lib/python3.10/site-packages (from torchrl) (0.10.0)\n",
      "Requirement already satisfied: importlib_metadata in /home/mwlgt/Documents/LARS-RL-TUTORIAL/.venv/lib/python3.10/site-packages (from tensordict<0.11.0,>=0.10.0->torchrl) (8.7.0)\n",
      "Requirement already satisfied: orjson in /home/mwlgt/Documents/LARS-RL-TUTORIAL/.venv/lib/python3.10/site-packages (from tensordict<0.11.0,>=0.10.0->torchrl) (3.11.4)\n",
      "Requirement already satisfied: filelock in /home/mwlgt/Documents/LARS-RL-TUTORIAL/.venv/lib/python3.10/site-packages (from torch>=2.1.0->torchrl) (3.20.0)\n",
      "Requirement already satisfied: typing-extensions>=4.10.0 in /home/mwlgt/Documents/LARS-RL-TUTORIAL/.venv/lib/python3.10/site-packages (from torch>=2.1.0->torchrl) (4.15.0)\n",
      "Requirement already satisfied: sympy>=1.13.3 in /home/mwlgt/Documents/LARS-RL-TUTORIAL/.venv/lib/python3.10/site-packages (from torch>=2.1.0->torchrl) (1.14.0)\n",
      "Requirement already satisfied: networkx>=2.5.1 in /home/mwlgt/Documents/LARS-RL-TUTORIAL/.venv/lib/python3.10/site-packages (from torch>=2.1.0->torchrl) (3.4.2)\n",
      "Requirement already satisfied: jinja2 in /home/mwlgt/Documents/LARS-RL-TUTORIAL/.venv/lib/python3.10/site-packages (from torch>=2.1.0->torchrl) (3.1.6)\n",
      "Requirement already satisfied: fsspec>=0.8.5 in /home/mwlgt/Documents/LARS-RL-TUTORIAL/.venv/lib/python3.10/site-packages (from torch>=2.1.0->torchrl) (2025.9.0)\n",
      "Requirement already satisfied: nvidia-cuda-nvrtc-cu12==12.8.93 in /home/mwlgt/Documents/LARS-RL-TUTORIAL/.venv/lib/python3.10/site-packages (from torch>=2.1.0->torchrl) (12.8.93)\n",
      "Requirement already satisfied: nvidia-cuda-runtime-cu12==12.8.90 in /home/mwlgt/Documents/LARS-RL-TUTORIAL/.venv/lib/python3.10/site-packages (from torch>=2.1.0->torchrl) (12.8.90)\n",
      "Requirement already satisfied: nvidia-cuda-cupti-cu12==12.8.90 in /home/mwlgt/Documents/LARS-RL-TUTORIAL/.venv/lib/python3.10/site-packages (from torch>=2.1.0->torchrl) (12.8.90)\n",
      "Requirement already satisfied: nvidia-cudnn-cu12==9.10.2.21 in /home/mwlgt/Documents/LARS-RL-TUTORIAL/.venv/lib/python3.10/site-packages (from torch>=2.1.0->torchrl) (9.10.2.21)\n",
      "Requirement already satisfied: nvidia-cublas-cu12==12.8.4.1 in /home/mwlgt/Documents/LARS-RL-TUTORIAL/.venv/lib/python3.10/site-packages (from torch>=2.1.0->torchrl) (12.8.4.1)\n",
      "Requirement already satisfied: nvidia-cufft-cu12==11.3.3.83 in /home/mwlgt/Documents/LARS-RL-TUTORIAL/.venv/lib/python3.10/site-packages (from torch>=2.1.0->torchrl) (11.3.3.83)\n",
      "Requirement already satisfied: nvidia-curand-cu12==10.3.9.90 in /home/mwlgt/Documents/LARS-RL-TUTORIAL/.venv/lib/python3.10/site-packages (from torch>=2.1.0->torchrl) (10.3.9.90)\n",
      "Requirement already satisfied: nvidia-cusolver-cu12==11.7.3.90 in /home/mwlgt/Documents/LARS-RL-TUTORIAL/.venv/lib/python3.10/site-packages (from torch>=2.1.0->torchrl) (11.7.3.90)\n",
      "Requirement already satisfied: nvidia-cusparse-cu12==12.5.8.93 in /home/mwlgt/Documents/LARS-RL-TUTORIAL/.venv/lib/python3.10/site-packages (from torch>=2.1.0->torchrl) (12.5.8.93)\n",
      "Requirement already satisfied: nvidia-cusparselt-cu12==0.7.1 in /home/mwlgt/Documents/LARS-RL-TUTORIAL/.venv/lib/python3.10/site-packages (from torch>=2.1.0->torchrl) (0.7.1)\n",
      "Requirement already satisfied: nvidia-nccl-cu12==2.27.5 in /home/mwlgt/Documents/LARS-RL-TUTORIAL/.venv/lib/python3.10/site-packages (from torch>=2.1.0->torchrl) (2.27.5)\n",
      "Requirement already satisfied: nvidia-nvshmem-cu12==3.3.20 in /home/mwlgt/Documents/LARS-RL-TUTORIAL/.venv/lib/python3.10/site-packages (from torch>=2.1.0->torchrl) (3.3.20)\n",
      "Requirement already satisfied: nvidia-nvtx-cu12==12.8.90 in /home/mwlgt/Documents/LARS-RL-TUTORIAL/.venv/lib/python3.10/site-packages (from torch>=2.1.0->torchrl) (12.8.90)\n",
      "Requirement already satisfied: nvidia-nvjitlink-cu12==12.8.93 in /home/mwlgt/Documents/LARS-RL-TUTORIAL/.venv/lib/python3.10/site-packages (from torch>=2.1.0->torchrl) (12.8.93)\n",
      "Requirement already satisfied: nvidia-cufile-cu12==1.13.1.3 in /home/mwlgt/Documents/LARS-RL-TUTORIAL/.venv/lib/python3.10/site-packages (from torch>=2.1.0->torchrl) (1.13.1.3)\n",
      "Requirement already satisfied: triton==3.5.0 in /home/mwlgt/Documents/LARS-RL-TUTORIAL/.venv/lib/python3.10/site-packages (from torch>=2.1.0->torchrl) (3.5.0)\n",
      "Requirement already satisfied: mpmath<1.4,>=1.1.0 in /home/mwlgt/Documents/LARS-RL-TUTORIAL/.venv/lib/python3.10/site-packages (from sympy>=1.13.3->torch>=2.1.0->torchrl) (1.3.0)\n",
      "Requirement already satisfied: zipp>=3.20 in /home/mwlgt/Documents/LARS-RL-TUTORIAL/.venv/lib/python3.10/site-packages (from importlib_metadata->tensordict<0.11.0,>=0.10.0->torchrl) (3.23.0)\n",
      "Requirement already satisfied: MarkupSafe>=2.0 in /home/mwlgt/Documents/LARS-RL-TUTORIAL/.venv/lib/python3.10/site-packages (from jinja2->torch>=2.1.0->torchrl) (3.0.3)\n",
      "Note: you may need to restart the kernel to use updated packages.\n",
      "Requirement already satisfied: gym[mujoco] in /home/mwlgt/Documents/LARS-RL-TUTORIAL/.venv/lib/python3.10/site-packages (0.26.2)\n",
      "Requirement already satisfied: numpy>=1.18.0 in /home/mwlgt/Documents/LARS-RL-TUTORIAL/.venv/lib/python3.10/site-packages (from gym[mujoco]) (2.2.6)\n",
      "Requirement already satisfied: cloudpickle>=1.2.0 in /home/mwlgt/Documents/LARS-RL-TUTORIAL/.venv/lib/python3.10/site-packages (from gym[mujoco]) (3.1.1)\n",
      "Requirement already satisfied: gym_notices>=0.0.4 in /home/mwlgt/Documents/LARS-RL-TUTORIAL/.venv/lib/python3.10/site-packages (from gym[mujoco]) (0.1.0)\n",
      "Requirement already satisfied: mujoco==2.2 in /home/mwlgt/Documents/LARS-RL-TUTORIAL/.venv/lib/python3.10/site-packages (from gym[mujoco]) (2.2.0)\n",
      "Requirement already satisfied: imageio>=2.14.1 in /home/mwlgt/Documents/LARS-RL-TUTORIAL/.venv/lib/python3.10/site-packages (from gym[mujoco]) (2.37.0)\n",
      "Requirement already satisfied: absl-py in /home/mwlgt/Documents/LARS-RL-TUTORIAL/.venv/lib/python3.10/site-packages (from mujoco==2.2->gym[mujoco]) (2.3.1)\n",
      "Requirement already satisfied: glfw in /home/mwlgt/Documents/LARS-RL-TUTORIAL/.venv/lib/python3.10/site-packages (from mujoco==2.2->gym[mujoco]) (2.10.0)\n",
      "Requirement already satisfied: pyopengl in /home/mwlgt/Documents/LARS-RL-TUTORIAL/.venv/lib/python3.10/site-packages (from mujoco==2.2->gym[mujoco]) (3.1.10)\n",
      "Requirement already satisfied: pillow>=8.3.2 in /home/mwlgt/Documents/LARS-RL-TUTORIAL/.venv/lib/python3.10/site-packages (from imageio>=2.14.1->gym[mujoco]) (12.0.0)\n",
      "Note: you may need to restart the kernel to use updated packages.\n",
      "Requirement already satisfied: tqdm in /home/mwlgt/Documents/LARS-RL-TUTORIAL/.venv/lib/python3.10/site-packages (4.67.1)\n",
      "Note: you may need to restart the kernel to use updated packages.\n"
     ]
    }
   ],
   "source": [
    "%pip install torch\n",
    "%pip install torchrl\n",
    "%pip install gym[mujoco]\n",
    "%pip install tqdm"
   ]
  },
  {
   "cell_type": "code",
   "execution_count": 6,
   "id": "5b45ab17",
   "metadata": {},
   "outputs": [],
   "source": [
    "import warnings\n",
    "warnings.filterwarnings(\"ignore\")\n",
    "from torch import multiprocessing\n",
    "\n",
    "\n",
    "from collections import defaultdict\n",
    "\n",
    "import matplotlib.pyplot as plt\n",
    "import torch\n",
    "from tensordict.nn import TensorDictModule\n",
    "from tensordict.nn.distributions import NormalParamExtractor\n",
    "from torch import nn\n",
    "from torchrl.collectors import SyncDataCollector\n",
    "from torchrl.data.replay_buffers import ReplayBuffer\n",
    "from torchrl.data.replay_buffers.samplers import SamplerWithoutReplacement\n",
    "from torchrl.data.replay_buffers.storages import LazyTensorStorage\n",
    "from torchrl.envs import (Compose, DoubleToFloat, ObservationNorm, StepCounter,\n",
    "                          TransformedEnv)\n",
    "from torchrl.envs.libs.gym import GymEnv\n",
    "from torchrl.envs.utils import check_env_specs, ExplorationType, set_exploration_type\n",
    "from torchrl.modules import ProbabilisticActor, TanhNormal, ValueOperator\n",
    "from torchrl.objectives import ClipPPOLoss\n",
    "from torchrl.objectives.value import GAE\n",
    "from tqdm import tqdm"
   ]
  },
  {
   "cell_type": "markdown",
   "id": "1c93aabb",
   "metadata": {},
   "source": [
    "#### Define hyperparameters"
   ]
  },
  {
   "cell_type": "code",
   "execution_count": 9,
   "id": "d6352967",
   "metadata": {},
   "outputs": [
    {
     "name": "stdout",
     "output_type": "stream",
     "text": [
      "cuda:0\n"
     ]
    }
   ],
   "source": [
    "is_fork = multiprocessing.get_start_method() == \"fork\"\n",
    "device = (\n",
    "    torch.device(0)\n",
    "    if torch.cuda.is_available() and not is_fork\n",
    "    else torch.device(\"cpu\")\n",
    ")\n",
    "print(device)\n",
    "num_cells = 256  # number of cells in each layer i.e. output dim.\n",
    "lr = 3e-4\n",
    "max_grad_norm = 1.0\n",
    "\n",
    "# Data collection parameters\n",
    "\n",
    "frames_per_batch = 1000\n",
    "# For a complete training, bring the number of frames up to 1M\n",
    "total_frames = 50_000\n",
    "\n",
    "# PPO parameters\n",
    "sub_batch_size = 64  # cardinality of the sub-samples gathered from the current data in the inner loop\n",
    "num_epochs = 10  # optimization steps per batch of data collected\n",
    "clip_epsilon = (\n",
    "    0.2  # clip value for PPO loss: see the equation in the intro for more context.\n",
    ")\n",
    "gamma = 0.99\n",
    "lmbda = 0.95\n",
    "entropy_eps = 1e-4"
   ]
  },
  {
   "cell_type": "markdown",
   "id": "d750a7dd",
   "metadata": {},
   "source": [
    "#### Define environment"
   ]
  },
  {
   "cell_type": "code",
   "execution_count": 10,
   "id": "97a9f25e",
   "metadata": {},
   "outputs": [
    {
     "name": "stderr",
     "output_type": "stream",
     "text": [
      "Gym has been unmaintained since 2022 and does not support NumPy 2.0 amongst other critical functionality.\n",
      "Please upgrade to Gymnasium, the maintained drop-in replacement of Gym, or contact the authors of your software and request that they upgrade.\n",
      "Users of this version of Gym should be able to simply replace 'import gym' with 'import gymnasium as gym' in the vast majority of cases.\n",
      "See the migration guide at https://gymnasium.farama.org/introduction/migration_guide/ for additional information.\n"
     ]
    }
   ],
   "source": [
    "base_env = GymEnv(\"InvertedDoublePendulum-v4\", device=device)"
   ]
  },
  {
   "cell_type": "markdown",
   "id": "0506fd31",
   "metadata": {},
   "source": [
    "#### Normalization parameters"
   ]
  },
  {
   "cell_type": "code",
   "execution_count": null,
   "id": "c2a44397",
   "metadata": {},
   "outputs": [
    {
     "ename": "NameError",
     "evalue": "name 'env' is not defined",
     "output_type": "error",
     "traceback": [
      "\u001b[0;31m---------------------------------------------------------------------------\u001b[0m",
      "\u001b[0;31mNameError\u001b[0m                                 Traceback (most recent call last)",
      "Cell \u001b[0;32mIn[11], line 1\u001b[0m\n\u001b[0;32m----> 1\u001b[0m \u001b[43menv\u001b[49m\u001b[38;5;241m.\u001b[39mtransform[\u001b[38;5;241m0\u001b[39m]\u001b[38;5;241m.\u001b[39minit_stats(num_iter\u001b[38;5;241m=\u001b[39m\u001b[38;5;241m1000\u001b[39m, reduce_dim\u001b[38;5;241m=\u001b[39m\u001b[38;5;241m0\u001b[39m, cat_dim\u001b[38;5;241m=\u001b[39m\u001b[38;5;241m0\u001b[39m)\n\u001b[1;32m      2\u001b[0m \u001b[38;5;28mprint\u001b[39m(\u001b[38;5;124m\"\u001b[39m\u001b[38;5;124mnormalization constant shape:\u001b[39m\u001b[38;5;124m\"\u001b[39m, env\u001b[38;5;241m.\u001b[39mtransform[\u001b[38;5;241m0\u001b[39m]\u001b[38;5;241m.\u001b[39mloc\u001b[38;5;241m.\u001b[39mshape)\n",
      "\u001b[0;31mNameError\u001b[0m: name 'env' is not defined"
     ]
    }
   ],
   "source": [
    "env = TransformedEnv(\n",
    "    base_env,\n",
    "    Compose(\n",
    "        # normalize observations\n",
    "        ObservationNorm(in_keys=[\"observation\"]),\n",
    "        DoubleToFloat(),\n",
    "        StepCounter(),\n",
    "    ),\n",
    ")\n",
    "\n",
    "env.transform[0].init_stats(num_iter=1000, reduce_dim=0, cat_dim=0)\n",
    "print(\"normalization constant shape:\", env.transform[0].loc.shape)"
   ]
  }
 ],
 "metadata": {
  "kernelspec": {
   "display_name": ".venv",
   "language": "python",
   "name": "python3"
  },
  "language_info": {
   "codemirror_mode": {
    "name": "ipython",
    "version": 3
   },
   "file_extension": ".py",
   "mimetype": "text/x-python",
   "name": "python",
   "nbconvert_exporter": "python",
   "pygments_lexer": "ipython3",
   "version": "3.10.12"
  }
 },
 "nbformat": 4,
 "nbformat_minor": 5
}
