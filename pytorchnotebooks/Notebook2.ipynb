{
 "cells": [
  {
   "cell_type": "markdown",
   "id": "7fab8857",
   "metadata": {},
   "source": [
    "# Testing Environment"
   ]
  },
  {
   "cell_type": "code",
   "execution_count": 1,
   "id": "f8754d15",
   "metadata": {},
   "outputs": [
    {
     "name": "stdout",
     "output_type": "stream",
     "text": [
      "hello\n"
     ]
    }
   ],
   "source": [
    "print(\"hello\")"
   ]
  },
  {
   "cell_type": "code",
   "execution_count": 2,
   "id": "2dcb534d",
   "metadata": {},
   "outputs": [
    {
     "name": "stdout",
     "output_type": "stream",
     "text": [
      "pytorch\n",
      "tensor([[0.8646, 0.7191, 0.3828],\n",
      "        [0.3790, 0.3049, 0.8329],\n",
      "        [0.7769, 0.3626, 0.5144],\n",
      "        [0.2469, 0.7711, 0.4298],\n",
      "        [0.1972, 0.9742, 0.5497]])\n"
     ]
    }
   ],
   "source": [
    "import torch\n",
    "print(\"pytorch\")\n",
    "\n",
    "x = torch.rand(5, 3)\n",
    "print(x)"
   ]
  },
  {
   "cell_type": "code",
   "execution_count": 3,
   "id": "9d297121",
   "metadata": {},
   "outputs": [
    {
     "data": {
      "text/plain": [
       "True"
      ]
     },
     "execution_count": 3,
     "metadata": {},
     "output_type": "execute_result"
    }
   ],
   "source": [
    "torch.cuda.is_available()"
   ]
  },
  {
   "cell_type": "markdown",
   "id": "a3557ae3",
   "metadata": {},
   "source": [
    "# 0"
   ]
  },
  {
   "cell_type": "code",
   "execution_count": 5,
   "id": "a916db0a",
   "metadata": {},
   "outputs": [],
   "source": [
    "from torch import nn\n",
    "from torch.utils.data import DataLoader\n",
    "from torchvision import datasets\n",
    "from torchvision.transforms import ToTensor"
   ]
  },
  {
   "cell_type": "code",
   "execution_count": 6,
   "id": "65e26814",
   "metadata": {},
   "outputs": [
    {
     "name": "stderr",
     "output_type": "stream",
     "text": [
      "100.0%\n",
      "100.0%\n",
      "100.0%\n",
      "100.0%\n"
     ]
    }
   ],
   "source": [
    "# Download training data from open datasets.\n",
    "training_data = datasets.FashionMNIST(\n",
    "    root=\"data\",\n",
    "    train=True,\n",
    "    download=True,\n",
    "    transform=ToTensor(),\n",
    ")\n",
    "\n",
    "# Download test data from open datasets.\n",
    "test_data = datasets.FashionMNIST(\n",
    "    root=\"data\",\n",
    "    train=False,\n",
    "    download=True,\n",
    "    transform=ToTensor(),\n",
    ")"
   ]
  },
  {
   "cell_type": "code",
   "execution_count": 7,
   "id": "0cce45b4",
   "metadata": {},
   "outputs": [
    {
     "name": "stdout",
     "output_type": "stream",
     "text": [
      "Shape of X [N, C, H, W]: torch.Size([64, 1, 28, 28])\n",
      "Shape of y: torch.Size([64]) torch.int64\n"
     ]
    }
   ],
   "source": [
    "batch_size = 64\n",
    "\n",
    "\n",
    "# Create data loaders.\n",
    "train_dataloader = DataLoader(training_data, batch_size=batch_size)\n",
    "test_dataloader = DataLoader(test_data, batch_size=batch_size)\n",
    "\n",
    "\n",
    "for X, y in test_dataloader:\n",
    "    print(f\"Shape of X [N, C, H, W]: {X.shape}\")\n",
    "    print(f\"Shape of y: {y.shape} {y.dtype}\")\n",
    "    break\n",
    "\n"
   ]
  },
  {
   "cell_type": "code",
   "execution_count": 9,
   "id": "ebe6286e",
   "metadata": {},
   "outputs": [
    {
     "name": "stdout",
     "output_type": "stream",
     "text": [
      "Using cuda device\n",
      "NeuralNetwork(\n",
      "  (flatten): Flatten(start_dim=1, end_dim=-1)\n",
      "  (linear_relu_stack): Sequential(\n",
      "    (0): Linear(in_features=784, out_features=512, bias=True)\n",
      "    (1): ReLU()\n",
      "    (2): Linear(in_features=512, out_features=512, bias=True)\n",
      "    (3): ReLU()\n",
      "    (4): Linear(in_features=512, out_features=10, bias=True)\n",
      "  )\n",
      ")\n"
     ]
    }
   ],
   "source": [
    "device = torch.accelerator.current_accelerator().type if torch.accelerator.is_available() else \"cpu\"\n",
    "print(f\"Using {device} device\")\n",
    "\n",
    "# Define model\n",
    "class NeuralNetwork(nn.Module):\n",
    "    def __init__(self):\n",
    "        super().__init__()\n",
    "        self.flatten = nn.Flatten()\n",
    "        self.linear_relu_stack = nn.Sequential(\n",
    "            nn.Linear(28*28, 512),\n",
    "            nn.ReLU(),\n",
    "            nn.Linear(512, 512),\n",
    "            nn.ReLU(),\n",
    "            nn.Linear(512, 10)\n",
    "        )\n",
    "\n",
    "    def forward(self, x):\n",
    "        x = self.flatten(x)\n",
    "        logits = self.linear_relu_stack(x)\n",
    "        return logits\n",
    "\n",
    "model = NeuralNetwork().to(device)\n",
    "print(model)\n"
   ]
  },
  {
   "cell_type": "code",
   "execution_count": 10,
   "id": "755eb6a2",
   "metadata": {},
   "outputs": [],
   "source": [
    "loss_fn = nn.CrossEntropyLoss()\n",
    "optimizer = torch.optim.SGD(model.parameters(), lr=1e-3)"
   ]
  },
  {
   "cell_type": "code",
   "execution_count": 11,
   "id": "2e3c2d44",
   "metadata": {},
   "outputs": [],
   "source": [
    "def train(dataloader, model, loss_fn, optimizer):\n",
    "    size = len(dataloader.dataset)\n",
    "    model.train()\n",
    "    for batch, (X, y) in enumerate(dataloader):\n",
    "        X, y = X.to(device), y.to(device)\n",
    "\n",
    "        # Compute prediction error\n",
    "        pred = model(X)\n",
    "        loss = loss_fn(pred, y)\n",
    "\n",
    "        # Backpropagation\n",
    "        loss.backward()\n",
    "        optimizer.step()\n",
    "        optimizer.zero_grad()\n",
    "\n",
    "        if batch % 100 == 0:\n",
    "            loss, current = loss.item(), (batch + 1) * len(X)\n",
    "            print(f\"loss: {loss:>7f}  [{current:>5d}/{size:>5d}]\")"
   ]
  },
  {
   "cell_type": "code",
   "execution_count": 12,
   "id": "78369eb6",
   "metadata": {},
   "outputs": [],
   "source": [
    "def test(dataloader, model, loss_fn):\n",
    "    size = len(dataloader.dataset)\n",
    "    num_batches = len(dataloader)\n",
    "    model.eval()\n",
    "    test_loss, correct = 0, 0\n",
    "    with torch.no_grad():\n",
    "        for X, y in dataloader:\n",
    "            X, y = X.to(device), y.to(device)\n",
    "            pred = model(X)\n",
    "            test_loss += loss_fn(pred, y).item()\n",
    "            correct += (pred.argmax(1) == y).type(torch.float).sum().item()\n",
    "    test_loss /= num_batches\n",
    "    correct /= size\n",
    "    print(f\"Test Error: \\n Accuracy: {(100*correct):>0.1f}%, Avg loss: {test_loss:>8f} \\n\")"
   ]
  },
  {
   "cell_type": "code",
   "execution_count": null,
   "id": "18de0697",
   "metadata": {},
   "outputs": [
    {
     "name": "stdout",
     "output_type": "stream",
     "text": [
      "Epoch 1\n",
      "-------------------------------\n",
      "loss: 1.176637  [   64/60000]\n",
      "loss: 1.166381  [ 6464/60000]\n",
      "loss: 0.986274  [12864/60000]\n",
      "loss: 1.114092  [19264/60000]\n",
      "loss: 1.012665  [25664/60000]\n",
      "loss: 1.027703  [32064/60000]\n",
      "loss: 1.060163  [38464/60000]\n",
      "loss: 1.004546  [44864/60000]\n",
      "loss: 1.047902  [51264/60000]\n",
      "loss: 0.969414  [57664/60000]\n",
      "Test Error: \n",
      " Accuracy: 65.5%, Avg loss: 0.990255 \n",
      "\n",
      "Epoch 2\n",
      "-------------------------------\n",
      "loss: 1.051432  [   64/60000]\n",
      "loss: 1.062118  [ 6464/60000]\n",
      "loss: 0.865741  [12864/60000]\n",
      "loss: 1.016534  [19264/60000]\n",
      "loss: 0.920640  [25664/60000]\n",
      "loss: 0.930006  [32064/60000]\n",
      "loss: 0.978278  [38464/60000]\n",
      "loss: 0.927226  [44864/60000]\n",
      "loss: 0.966601  [51264/60000]\n",
      "loss: 0.898757  [57664/60000]\n",
      "Test Error: \n",
      " Accuracy: 66.8%, Avg loss: 0.914499 \n",
      "\n",
      "Epoch 3\n",
      "-------------------------------\n",
      "loss: 0.959666  [   64/60000]\n",
      "loss: 0.990522  [ 6464/60000]\n",
      "loss: 0.780647  [12864/60000]\n",
      "loss: 0.948453  [19264/60000]\n",
      "loss: 0.859986  [25664/60000]\n",
      "loss: 0.859316  [32064/60000]\n",
      "loss: 0.921476  [38464/60000]\n",
      "loss: 0.876008  [44864/60000]\n",
      "loss: 0.908662  [51264/60000]\n",
      "loss: 0.849100  [57664/60000]\n",
      "Test Error: \n",
      " Accuracy: 67.7%, Avg loss: 0.860838 \n",
      "\n",
      "Epoch 4\n",
      "-------------------------------\n",
      "loss: 0.890164  [   64/60000]\n",
      "loss: 0.938205  [ 6464/60000]\n",
      "loss: 0.718476  [12864/60000]\n",
      "loss: 0.898895  [19264/60000]\n",
      "loss: 0.817958  [25664/60000]\n",
      "loss: 0.806748  [32064/60000]\n",
      "loss: 0.879276  [38464/60000]\n",
      "loss: 0.840879  [44864/60000]\n",
      "loss: 0.866367  [51264/60000]\n",
      "loss: 0.812150  [57664/60000]\n",
      "Test Error: \n",
      " Accuracy: 68.9%, Avg loss: 0.820989 \n",
      "\n",
      "Epoch 5\n",
      "-------------------------------\n",
      "loss: 0.835705  [   64/60000]\n",
      "loss: 0.897209  [ 6464/60000]\n",
      "loss: 0.670997  [12864/60000]\n",
      "loss: 0.861629  [19264/60000]\n",
      "loss: 0.786470  [25664/60000]\n",
      "loss: 0.766641  [32064/60000]\n",
      "loss: 0.845782  [38464/60000]\n",
      "loss: 0.815093  [44864/60000]\n",
      "loss: 0.834232  [51264/60000]\n",
      "loss: 0.783120  [57664/60000]\n",
      "Test Error: \n",
      " Accuracy: 70.2%, Avg loss: 0.789753 \n",
      "\n",
      "Done!\n"
     ]
    }
   ],
   "source": [
    "epochs = 5\n",
    "for t in range(epochs):\n",
    "    print(f\"Epoch {t+1}\\n-------------------------------\")\n",
    "    train(train_dataloader, model, loss_fn, optimizer)\n",
    "    test(test_dataloader, model, loss_fn)\n",
    "print(\"Done!\")\n",
    "\n",
    "model.train()"
   ]
  },
  {
   "cell_type": "markdown",
   "id": "88b78405",
   "metadata": {},
   "source": [
    "#### Saving and using models"
   ]
  },
  {
   "cell_type": "code",
   "execution_count": 15,
   "id": "c5df524a",
   "metadata": {},
   "outputs": [
    {
     "name": "stdout",
     "output_type": "stream",
     "text": [
      "Saved PyTorch Model State to models/modelZero.pth\n"
     ]
    }
   ],
   "source": [
    "torch.save(model.state_dict(), \"models/modelZero.pth\")\n",
    "print(\"Saved PyTorch Model State to models/modelZero.pth\")"
   ]
  },
  {
   "cell_type": "code",
   "execution_count": 19,
   "id": "310b2ec3",
   "metadata": {},
   "outputs": [
    {
     "data": {
      "text/plain": [
       "<All keys matched successfully>"
      ]
     },
     "execution_count": 19,
     "metadata": {},
     "output_type": "execute_result"
    }
   ],
   "source": [
    "modeltwo = NeuralNetwork().to(device)\n",
    "modeltwo.load_state_dict(torch.load(\"models/modelZero.pth\", weights_only=True))"
   ]
  },
  {
   "cell_type": "markdown",
   "id": "1c914679",
   "metadata": {},
   "source": [
    "#### using a class to make predictions"
   ]
  },
  {
   "cell_type": "code",
   "execution_count": 20,
   "id": "4f5ed392",
   "metadata": {},
   "outputs": [
    {
     "name": "stdout",
     "output_type": "stream",
     "text": [
      "Predicted: \"Ankle boot\", Actual: \"Ankle boot\"\n"
     ]
    }
   ],
   "source": [
    "classes = [\n",
    "    \"T-shirt/top\",\n",
    "    \"Trouser\",\n",
    "    \"Pullover\",\n",
    "    \"Dress\",\n",
    "    \"Coat\",\n",
    "    \"Sandal\",\n",
    "    \"Shirt\",\n",
    "    \"Sneaker\",\n",
    "    \"Bag\",\n",
    "    \"Ankle boot\",\n",
    "]\n",
    "\n",
    "model.eval()\n",
    "x, y = test_data[0][0], test_data[0][1]\n",
    "with torch.no_grad():\n",
    "    x = x.to(device)\n",
    "    pred = model(x)\n",
    "    predicted, actual = classes[pred[0].argmax(0)], classes[y]\n",
    "    print(f'Predicted: \"{predicted}\", Actual: \"{actual}\"')"
   ]
  },
  {
   "cell_type": "markdown",
   "id": "ff185e95",
   "metadata": {},
   "source": [
    "# Tensors"
   ]
  },
  {
   "cell_type": "code",
   "execution_count": 5,
   "id": "0c966410",
   "metadata": {},
   "outputs": [],
   "source": [
    "import torch\n",
    "import numpy as np"
   ]
  },
  {
   "cell_type": "code",
   "execution_count": 3,
   "id": "bf707386",
   "metadata": {},
   "outputs": [
    {
     "name": "stdout",
     "output_type": "stream",
     "text": [
      "tensor([[1, 2],\n",
      "        [3, 4]])\n",
      "tensor([[1, 2],\n",
      "        [3, 4]])\n"
     ]
    }
   ],
   "source": [
    "data = [[1, 2],[3, 4]]\n",
    "x_data = torch.tensor(data)\n",
    "print(x_data)\n",
    "np_array = np.array(data)\n",
    "x_np = torch.from_numpy(np_array)\n",
    "print(x_np)"
   ]
  },
  {
   "cell_type": "code",
   "execution_count": 7,
   "id": "90bfa070",
   "metadata": {},
   "outputs": [
    {
     "name": "stdout",
     "output_type": "stream",
     "text": [
      "tensor([[1, 1],\n",
      "        [1, 1]])\n",
      "tensor([[0.7254, 0.5776],\n",
      "        [0.6088, 0.0166]])\n"
     ]
    }
   ],
   "source": [
    "x_ones = torch.ones_like(x_data)\n",
    "x_rand = torch.rand_like(x_data, dtype=torch.float)\n",
    "print(x_ones)\n",
    "print(x_rand)"
   ]
  },
  {
   "cell_type": "code",
   "execution_count": 8,
   "id": "15796dad",
   "metadata": {},
   "outputs": [
    {
     "data": {
      "text/plain": [
       "tensor([[0., 0., 0.],\n",
       "        [0., 0., 0.]])"
      ]
     },
     "execution_count": 8,
     "metadata": {},
     "output_type": "execute_result"
    }
   ],
   "source": [
    "shape = (2,3,)\n",
    "zeros_tensor = torch.zeros(shape)\n",
    "zeros_tensor"
   ]
  },
  {
   "cell_type": "code",
   "execution_count": 9,
   "id": "e3a99182",
   "metadata": {},
   "outputs": [
    {
     "name": "stdout",
     "output_type": "stream",
     "text": [
      "Shape of tensor: torch.Size([3, 4])\n",
      "Datatype of tensor: torch.float32\n",
      "Device tensor is stored on: cpu\n"
     ]
    }
   ],
   "source": [
    "tensor = torch.rand(3,4)\n",
    "\n",
    "print(f\"Shape of tensor: {tensor.shape}\")\n",
    "print(f\"Datatype of tensor: {tensor.dtype}\")\n",
    "print(f\"Device tensor is stored on: {tensor.device}\")"
   ]
  },
  {
   "cell_type": "code",
   "execution_count": 10,
   "id": "8ece2ad6",
   "metadata": {},
   "outputs": [
    {
     "data": {
      "text/plain": [
       "device(type='cuda', index=0)"
      ]
     },
     "execution_count": 10,
     "metadata": {},
     "output_type": "execute_result"
    }
   ],
   "source": [
    "if torch.accelerator.is_available():\n",
    "    tensor = tensor.to(torch.accelerator.current_accelerator())\n",
    "    \n",
    "    \n",
    "tensor.device"
   ]
  },
  {
   "cell_type": "code",
   "execution_count": 6,
   "id": "2ac33943",
   "metadata": {},
   "outputs": [
    {
     "name": "stdout",
     "output_type": "stream",
     "text": [
      "First row: tensor([1., 1., 1., 1.])\n",
      "First column: tensor([1., 1., 1., 1.])\n",
      "Last column: tensor([1., 1., 1., 1.])\n",
      "tensor([[1., 0., 1., 1.],\n",
      "        [1., 0., 1., 1.],\n",
      "        [0., 0., 0., 0.],\n",
      "        [1., 0., 1., 1.]])\n"
     ]
    }
   ],
   "source": [
    "tensor = torch.ones(4, 4)\n",
    "print(f\"First row: {tensor[0]}\")\n",
    "print(f\"First column: {tensor[:, 0]}\")\n",
    "print(f\"Last column: {tensor[..., -1]}\")\n",
    "tensor[:,1] = 0\n",
    "tensor[2,:] = 0\n",
    "print(tensor)"
   ]
  },
  {
   "cell_type": "code",
   "execution_count": null,
   "id": "f7bf05e8",
   "metadata": {},
   "outputs": [],
   "source": [
    "t1 = torch.cat([tensor, tensor, tensor], dim=0)\n",
    "t2 = torch.cat([t1, t1, t1], dim=1)\n",
    "print(t2)"
   ]
  },
  {
   "cell_type": "code",
   "execution_count": 22,
   "id": "670e4181",
   "metadata": {},
   "outputs": [
    {
     "name": "stdout",
     "output_type": "stream",
     "text": [
      "tensor([[3., 3., 0., 3.],\n",
      "        [3., 3., 0., 3.],\n",
      "        [0., 0., 0., 0.],\n",
      "        [3., 3., 0., 3.]])\n",
      "tensor([[1., 0., 1., 1.],\n",
      "        [1., 0., 1., 1.],\n",
      "        [0., 0., 0., 0.],\n",
      "        [1., 0., 1., 1.]])\n"
     ]
    }
   ],
   "source": [
    "# This computes the matrix multiplication between two tensors. y1, y2, y3 will have the same value\n",
    "# ``tensor.T`` returns the transpose of a tensor\n",
    "y1 = tensor @ tensor.T\n",
    "y2 = tensor.matmul(tensor.T)\n",
    "\n",
    "y3 = torch.rand_like(y1)\n",
    "torch.matmul(tensor, tensor.T, out=y3)\n",
    "\n",
    "\n",
    "# This computes the element-wise product. z1, z2, z3 will have the same value\n",
    "z1 = tensor * tensor\n",
    "z2 = tensor.mul(tensor)\n",
    "\n",
    "z3 = torch.rand_like(tensor)\n",
    "torch.mul(tensor, tensor, out=z3)\n",
    "print(y1)\n",
    "print(z1)"
   ]
  },
  {
   "cell_type": "code",
   "execution_count": 7,
   "id": "db6dc338",
   "metadata": {},
   "outputs": [
    {
     "name": "stdout",
     "output_type": "stream",
     "text": [
      "tensor(9.)\n",
      "9.0 <class 'float'>\n"
     ]
    },
    {
     "data": {
      "text/plain": [
       "0.0"
      ]
     },
     "execution_count": 7,
     "metadata": {},
     "output_type": "execute_result"
    }
   ],
   "source": [
    "agg = tensor.sum()\n",
    "print(agg)\n",
    "agg_item = agg.item()\n",
    "print(agg_item, type(agg_item))\n",
    "\n",
    "tensor[2,3].item()"
   ]
  },
  {
   "cell_type": "code",
   "execution_count": 12,
   "id": "5d978253",
   "metadata": {},
   "outputs": [
    {
     "name": "stdout",
     "output_type": "stream",
     "text": [
      "tensor([[21., 20., 21., 21.],\n",
      "        [21., 20., 21., 21.],\n",
      "        [20., 20., 20., 20.],\n",
      "        [21., 20., 21., 21.]])\n"
     ]
    },
    {
     "data": {
      "text/plain": [
       "tensor([[26., 25., 26., 26.],\n",
       "        [26., 25., 26., 26.],\n",
       "        [25., 25., 25., 25.],\n",
       "        [26., 25., 26., 26.]])"
      ]
     },
     "execution_count": 12,
     "metadata": {},
     "output_type": "execute_result"
    }
   ],
   "source": [
    "print(tensor)\n",
    "tensor.add_(5)\n",
    "tensor"
   ]
  },
  {
   "cell_type": "markdown",
   "id": "d545336c",
   "metadata": {},
   "source": [
    "# Neural Networks"
   ]
  },
  {
   "cell_type": "code",
   "execution_count": null,
   "id": "34de9acd",
   "metadata": {},
   "outputs": [
    {
     "name": "stdout",
     "output_type": "stream",
     "text": [
      "Using cuda device\n"
     ]
    }
   ],
   "source": [
    "import os\n",
    "import torch\n",
    "from torch import nn\n",
    "from torch.utils.data import DataLoader\n",
    "from torchvision import datasets, transforms\n",
    "device = torch.accelerator.current_accelerator().type if torch.accelerator.is_available() else \"cpu\"\n",
    "print(f\"Using {device} device\")\n",
    "\n"
   ]
  },
  {
   "cell_type": "markdown",
   "id": "3498571b",
   "metadata": {},
   "source": [
    "Defining neural network subclass."
   ]
  },
  {
   "cell_type": "code",
   "execution_count": 2,
   "id": "b5277be9",
   "metadata": {},
   "outputs": [],
   "source": [
    "class NeuralNetwork(nn.Module):\n",
    "    def __init__(self):\n",
    "        super().__init__()\n",
    "        self.flatten = nn.Flatten()\n",
    "        self.linear_relu_stack = nn.Sequential(\n",
    "            nn.Linear(28*28, 512),\n",
    "            nn.ReLU(),\n",
    "            nn.Linear(512, 512),\n",
    "            nn.ReLU(),\n",
    "            nn.Linear(512, 10),\n",
    "        )\n",
    "\n",
    "    \n",
    "    \n",
    "    def forward(self, x):\n",
    "        x = self.flatten(x)\n",
    "        logits = self.linear_relu_stack(x)\n",
    "        return logits"
   ]
  },
  {
   "cell_type": "code",
   "execution_count": 3,
   "id": "bb430f28",
   "metadata": {},
   "outputs": [
    {
     "name": "stdout",
     "output_type": "stream",
     "text": [
      "NeuralNetwork(\n",
      "  (flatten): Flatten(start_dim=1, end_dim=-1)\n",
      "  (linear_relu_stack): Sequential(\n",
      "    (0): Linear(in_features=784, out_features=512, bias=True)\n",
      "    (1): ReLU()\n",
      "    (2): Linear(in_features=512, out_features=512, bias=True)\n",
      "    (3): ReLU()\n",
      "    (4): Linear(in_features=512, out_features=10, bias=True)\n",
      "  )\n",
      ")\n",
      "Predicted class: tensor([6], device='cuda:0')\n"
     ]
    }
   ],
   "source": [
    "model = NeuralNetwork().to(device)\n",
    "print(model)\n",
    "X = torch.rand(1, 28, 28, device=device)\n",
    "logits = model(X)\n",
    "pred_probab = nn.Softmax(dim=1)(logits)\n",
    "y_pred = pred_probab.argmax(1)\n",
    "print(f\"Predicted class: {y_pred}\")"
   ]
  },
  {
   "cell_type": "code",
   "execution_count": 4,
   "id": "4a34004a",
   "metadata": {},
   "outputs": [
    {
     "name": "stdout",
     "output_type": "stream",
     "text": [
      "torch.Size([3, 28, 28])\n"
     ]
    }
   ],
   "source": [
    "input_image = torch.rand(3,28,28)\n",
    "print(input_image.size())"
   ]
  },
  {
   "cell_type": "markdown",
   "id": "d14e8637",
   "metadata": {},
   "source": [
    "Flatten converts 28x28 pixels into 784 straight pixels"
   ]
  },
  {
   "cell_type": "code",
   "execution_count": 5,
   "id": "65bd2524",
   "metadata": {},
   "outputs": [
    {
     "name": "stdout",
     "output_type": "stream",
     "text": [
      "torch.Size([3, 784])\n"
     ]
    }
   ],
   "source": [
    "flatten = nn.Flatten()\n",
    "flat_image = flatten(input_image)\n",
    "print(flat_image.size())"
   ]
  },
  {
   "cell_type": "markdown",
   "id": "4b45c3d8",
   "metadata": {},
   "source": [
    "#### Linear transformation using stored weights"
   ]
  },
  {
   "cell_type": "code",
   "execution_count": 6,
   "id": "06879044",
   "metadata": {},
   "outputs": [
    {
     "name": "stdout",
     "output_type": "stream",
     "text": [
      "torch.Size([3, 20])\n"
     ]
    }
   ],
   "source": [
    "#                              784 \n",
    "layer1 = nn.Linear(in_features=28*28,out_features=20)\n",
    "hidden1 = layer1(flat_image)\n",
    "print(hidden1.size())"
   ]
  },
  {
   "cell_type": "markdown",
   "id": "4fe4c581",
   "metadata": {},
   "source": [
    "#### non-linear activations"
   ]
  },
  {
   "cell_type": "code",
   "execution_count": 7,
   "id": "78cc8d78",
   "metadata": {},
   "outputs": [
    {
     "name": "stdout",
     "output_type": "stream",
     "text": [
      "Before ReLU: tensor([[ 0.2863, -0.1835,  0.2807,  0.2506, -0.4539,  0.3146, -0.2696,  0.2791,\n",
      "          0.7915,  0.1106, -0.0394,  0.1902, -0.3022, -0.3179,  0.4184, -0.2890,\n",
      "          0.7596, -0.0509,  0.2559, -0.0418],\n",
      "        [ 0.6237,  0.4098, -0.1824, -0.2338, -0.1675,  0.3175,  0.0223, -0.0710,\n",
      "          0.3594,  0.3456,  0.0398,  0.5273, -0.4998, -0.2923,  0.4446, -0.2518,\n",
      "          0.8185, -0.4734,  0.5890,  0.2801],\n",
      "        [ 0.1291,  0.1488, -0.3430, -0.0763, -0.0506,  0.1337, -0.3828, -0.0299,\n",
      "          0.4809,  0.0268, -0.1877,  0.4401, -0.4691, -0.1501,  0.3583, -0.1596,\n",
      "          0.8956, -0.2663,  0.1668,  0.0937]], grad_fn=<AddmmBackward0>)\n",
      "\n",
      "\n",
      "After ReLU: tensor([[0.2863, 0.0000, 0.2807, 0.2506, 0.0000, 0.3146, 0.0000, 0.2791, 0.7915,\n",
      "         0.1106, 0.0000, 0.1902, 0.0000, 0.0000, 0.4184, 0.0000, 0.7596, 0.0000,\n",
      "         0.2559, 0.0000],\n",
      "        [0.6237, 0.4098, 0.0000, 0.0000, 0.0000, 0.3175, 0.0223, 0.0000, 0.3594,\n",
      "         0.3456, 0.0398, 0.5273, 0.0000, 0.0000, 0.4446, 0.0000, 0.8185, 0.0000,\n",
      "         0.5890, 0.2801],\n",
      "        [0.1291, 0.1488, 0.0000, 0.0000, 0.0000, 0.1337, 0.0000, 0.0000, 0.4809,\n",
      "         0.0268, 0.0000, 0.4401, 0.0000, 0.0000, 0.3583, 0.0000, 0.8956, 0.0000,\n",
      "         0.1668, 0.0937]], grad_fn=<ReluBackward0>)\n"
     ]
    }
   ],
   "source": [
    "print(f\"Before ReLU: {hidden1}\\n\\n\")\n",
    "hidden1 = nn.ReLU()(hidden1)\n",
    "print(f\"After ReLU: {hidden1}\")"
   ]
  },
  {
   "cell_type": "markdown",
   "id": "6a20bb52",
   "metadata": {},
   "source": [
    "#### stacking operations"
   ]
  },
  {
   "cell_type": "code",
   "execution_count": 8,
   "id": "3cf48602",
   "metadata": {},
   "outputs": [],
   "source": [
    "seq_modules = nn.Sequential(\n",
    "    flatten,\n",
    "    layer1,\n",
    "    nn.ReLU(),\n",
    "    nn.Linear(20, 10)\n",
    ")\n",
    "input_image = torch.rand(3,28,28)\n",
    "logits = seq_modules(input_image)"
   ]
  },
  {
   "cell_type": "markdown",
   "id": "73094b8e",
   "metadata": {},
   "source": [
    "The last linear layer of the neural network returns logits: raw values in [-infinity infinity]\n",
    "We can find the probability of these logits with softmax"
   ]
  },
  {
   "cell_type": "code",
   "execution_count": 9,
   "id": "d7216243",
   "metadata": {},
   "outputs": [
    {
     "name": "stdout",
     "output_type": "stream",
     "text": [
      "tensor([[ 0.1024, -0.3568, -0.0402,  0.1342,  0.0029,  0.0941, -0.0387, -0.1096,\n",
      "         -0.0488,  0.1580],\n",
      "        [-0.1179, -0.2215, -0.3827,  0.0153,  0.1636,  0.2286, -0.0416, -0.2326,\n",
      "         -0.1104,  0.1343],\n",
      "        [ 0.0493, -0.2974, -0.1828,  0.2305, -0.0268,  0.1896, -0.2025, -0.1624,\n",
      "         -0.2120,  0.1834]], grad_fn=<AddmmBackward0>)\n",
      "tensor([[0.1108, 0.0700, 0.0961, 0.1144, 0.1003, 0.1099, 0.0962, 0.0897, 0.0953,\n",
      "         0.1172],\n",
      "        [0.0925, 0.0834, 0.0709, 0.1056, 0.1225, 0.1307, 0.0998, 0.0824, 0.0931,\n",
      "         0.1190],\n",
      "        [0.1078, 0.0762, 0.0855, 0.1292, 0.0999, 0.1240, 0.0838, 0.0872, 0.0830,\n",
      "         0.1233]], grad_fn=<SoftmaxBackward0>)\n"
     ]
    }
   ],
   "source": [
    "softmax = nn.Softmax(dim=1)\n",
    "pred_probab = softmax(logits)\n",
    "print(logits)\n",
    "print(pred_probab)"
   ]
  },
  {
   "cell_type": "markdown",
   "id": "a21854c9",
   "metadata": {},
   "source": [
    "### Parameters"
   ]
  },
  {
   "cell_type": "code",
   "execution_count": 10,
   "id": "310b0697",
   "metadata": {},
   "outputs": [
    {
     "name": "stdout",
     "output_type": "stream",
     "text": [
      "Model structure: NeuralNetwork(\n",
      "  (flatten): Flatten(start_dim=1, end_dim=-1)\n",
      "  (linear_relu_stack): Sequential(\n",
      "    (0): Linear(in_features=784, out_features=512, bias=True)\n",
      "    (1): ReLU()\n",
      "    (2): Linear(in_features=512, out_features=512, bias=True)\n",
      "    (3): ReLU()\n",
      "    (4): Linear(in_features=512, out_features=10, bias=True)\n",
      "  )\n",
      ")\n",
      "\n",
      "\n",
      "Layer: linear_relu_stack.0.weight | Size: torch.Size([512, 784]) | Values : tensor([[ 0.0088,  0.0257, -0.0034,  ..., -0.0149, -0.0054,  0.0101],\n",
      "        [ 0.0011,  0.0342,  0.0223,  ..., -0.0243, -0.0327, -0.0089]],\n",
      "       device='cuda:0', grad_fn=<SliceBackward0>) \n",
      "\n",
      "Layer: linear_relu_stack.0.bias | Size: torch.Size([512]) | Values : tensor([-0.0280,  0.0020], device='cuda:0', grad_fn=<SliceBackward0>) \n",
      "\n",
      "Layer: linear_relu_stack.2.weight | Size: torch.Size([512, 512]) | Values : tensor([[ 0.0121,  0.0324, -0.0320,  ...,  0.0076,  0.0126,  0.0408],\n",
      "        [-0.0239,  0.0194, -0.0427,  ...,  0.0349, -0.0229,  0.0238]],\n",
      "       device='cuda:0', grad_fn=<SliceBackward0>) \n",
      "\n",
      "Layer: linear_relu_stack.2.bias | Size: torch.Size([512]) | Values : tensor([ 0.0222, -0.0072], device='cuda:0', grad_fn=<SliceBackward0>) \n",
      "\n",
      "Layer: linear_relu_stack.4.weight | Size: torch.Size([10, 512]) | Values : tensor([[-0.0396,  0.0022, -0.0140,  ..., -0.0342,  0.0203,  0.0185],\n",
      "        [-0.0432, -0.0101,  0.0004,  ..., -0.0305,  0.0258, -0.0088]],\n",
      "       device='cuda:0', grad_fn=<SliceBackward0>) \n",
      "\n",
      "Layer: linear_relu_stack.4.bias | Size: torch.Size([10]) | Values : tensor([-0.0140, -0.0328], device='cuda:0', grad_fn=<SliceBackward0>) \n",
      "\n"
     ]
    }
   ],
   "source": [
    "print(f\"Model structure: {model}\\n\\n\")\n",
    "\n",
    "for name, param in model.named_parameters():\n",
    "    print(f\"Layer: {name} | Size: {param.size()} | Values : {param[:2]} \\n\")"
   ]
  }
 ],
 "metadata": {
  "kernelspec": {
   "display_name": ".venv",
   "language": "python",
   "name": "python3"
  },
  "language_info": {
   "codemirror_mode": {
    "name": "ipython",
    "version": 3
   },
   "file_extension": ".py",
   "mimetype": "text/x-python",
   "name": "python",
   "nbconvert_exporter": "python",
   "pygments_lexer": "ipython3",
   "version": "3.10.12"
  }
 },
 "nbformat": 4,
 "nbformat_minor": 5
}
