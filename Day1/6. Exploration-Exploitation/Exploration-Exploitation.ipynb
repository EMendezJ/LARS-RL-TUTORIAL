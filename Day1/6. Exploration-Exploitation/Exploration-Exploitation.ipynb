{
 "cells": [
  {
   "cell_type": "markdown",
   "id": "50f37f4c",
   "metadata": {},
   "source": [
    "# Exploration vs Exploitation"
   ]
  },
  {
   "cell_type": "markdown",
   "id": "ae6e3f51",
   "metadata": {},
   "source": [
    "**Exploration vs Exploitation Dilemma**\n",
    "\n",
    "In RL, an agent must learn by interacting with its environment, choosing actions and observing rewards.\n",
    "At each decision point, the agent faces a question:\n",
    "\n",
    "Should I exploit what I already know gives me good results,\n",
    "or should I explore something new that might be even better?\n",
    "\n",
    "![Exploration vs Exploitation](images/exp_and_exp.png)"
   ]
  },
  {
   "cell_type": "markdown",
   "id": "ca3d7897",
   "metadata": {},
   "source": [
    "**Exploration**: The agent tries new actions to discover potentially better rewards or strategies.\n",
    "\n",
    "**Exploitation**: the agent uses the knowledge it already has to maximize rewards by choosing the best-known action.\n"
   ]
  },
  {
   "cell_type": "markdown",
   "id": "8cab2f7d",
   "metadata": {},
   "source": [
    "## $\\varepsilon$-greedy\n",
    "\n"
   ]
  },
  {
   "cell_type": "markdown",
   "id": "4d051d6d",
   "metadata": {},
   "source": [
    "The **$\\varepsilon$-greedy** algorithm is a way to balance exploration and exploitation.\n",
    "\n",
    "With probability 1 − ε, the agent exploits → chooses the action with the highest estimated value $$.\n",
    "\n",
    "With probability ε, the agent explores → chooses a random action."
   ]
  },
  {
   "cell_type": "code",
   "execution_count": null,
   "id": "ffeda310",
   "metadata": {},
   "outputs": [],
   "source": [
    "#https://www.nomidl.com/generative-ai/exploration-vs-exploitation-rl/\n"
   ]
  },
  {
   "cell_type": "markdown",
   "id": "a55905e6",
   "metadata": {},
   "source": [
    "## UCB"
   ]
  },
  {
   "cell_type": "markdown",
   "id": "645426a4",
   "metadata": {},
   "source": []
  }
 ],
 "metadata": {
  "kernelspec": {
   "display_name": "rl_course",
   "language": "python",
   "name": "python3"
  },
  "language_info": {
   "name": "python",
   "version": "3.10.19"
  }
 },
 "nbformat": 4,
 "nbformat_minor": 5
}
