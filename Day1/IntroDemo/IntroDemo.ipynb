{
 "cells": [
  {
   "cell_type": "markdown",
   "id": "ac62c7f7",
   "metadata": {},
   "source": [
    "# Introduction to Reinforcement Learning (RL)"
   ]
  },
  {
   "cell_type": "markdown",
   "id": "0819405a",
   "metadata": {},
   "source": [
    "## What is Reinforcement Learning?\n",
    "\n",
    "**Reinforcement Learning (RL)** is a computational approach where an **agent** learns to make decisions by **interacting** with an **environment**, receiving feedback in the form of **rewards**.\n",
    "\n",
    "**Key terms:**\n",
    "- **Agent:** the learner or decision maker.\n",
    "- **Environment:** the world that provides observations and rewards.\n",
    "- **State (s):** a representation of the environment at a given time.\n",
    "- **Action (a):** what the agent can do.\n",
    "- **Reward (r):** a scalar feedback signal.\n",
    "- **Policy (π):** defines how the agent selects actions.\n",
    "- **Value Function (V, Q):** measures expected future rewards.\n",
    "- **Model:** represents environment dynamics \\(P(s'|s,a)\\)."
   ]
  },
  {
   "cell_type": "markdown",
   "id": "e0a7bd15",
   "metadata": {},
   "source": [
    "## Setup"
   ]
  },
  {
   "cell_type": "code",
   "execution_count": 1,
   "id": "9c026930",
   "metadata": {},
   "outputs": [
    {
     "name": "stdout",
     "output_type": "stream",
     "text": [
      "Requirement already satisfied: numpy in /home/horte/.local/lib/python3.10/site-packages (1.26.4)\n",
      "Requirement already satisfied: matplotlib in /home/horte/.local/lib/python3.10/site-packages (3.10.3)\n",
      "Requirement already satisfied: stable-baselines3 in /home/horte/miniconda3/envs/rl_course/lib/python3.10/site-packages (2.7.0)\n",
      "Requirement already satisfied: torch in /home/horte/miniconda3/envs/rl_course/lib/python3.10/site-packages (2.9.0)\n",
      "Requirement already satisfied: procgen in /home/horte/miniconda3/envs/rl_course/lib/python3.10/site-packages (0.10.7)\n",
      "Requirement already satisfied: pybullet in /home/horte/miniconda3/envs/rl_course/lib/python3.10/site-packages (3.2.7)\n",
      "Requirement already satisfied: ipykernel in /home/horte/.local/lib/python3.10/site-packages (6.29.5)\n",
      "Requirement already satisfied: gymnasium[classic-control] in /home/horte/miniconda3/envs/rl_course/lib/python3.10/site-packages (1.2.1)\n",
      "Requirement already satisfied: cloudpickle>=1.2.0 in /home/horte/miniconda3/envs/rl_course/lib/python3.10/site-packages (from gymnasium[classic-control]) (3.1.1)\n",
      "Requirement already satisfied: typing-extensions>=4.3.0 in /home/horte/.local/lib/python3.10/site-packages (from gymnasium[classic-control]) (4.13.2)\n",
      "Requirement already satisfied: farama-notifications>=0.0.1 in /home/horte/miniconda3/envs/rl_course/lib/python3.10/site-packages (from gymnasium[classic-control]) (0.0.4)\n",
      "Requirement already satisfied: pygame>=2.1.3 in /home/horte/.local/lib/python3.10/site-packages (from gymnasium[classic-control]) (2.6.1)\n",
      "Requirement already satisfied: contourpy>=1.0.1 in /home/horte/.local/lib/python3.10/site-packages (from matplotlib) (1.3.2)\n",
      "Requirement already satisfied: cycler>=0.10 in /home/horte/.local/lib/python3.10/site-packages (from matplotlib) (0.12.1)\n",
      "Requirement already satisfied: fonttools>=4.22.0 in /home/horte/.local/lib/python3.10/site-packages (from matplotlib) (4.58.0)\n",
      "Requirement already satisfied: kiwisolver>=1.3.1 in /home/horte/.local/lib/python3.10/site-packages (from matplotlib) (1.4.8)\n",
      "Requirement already satisfied: packaging>=20.0 in /home/horte/.local/lib/python3.10/site-packages (from matplotlib) (25.0)\n",
      "Requirement already satisfied: pillow>=8 in /home/horte/.local/lib/python3.10/site-packages (from matplotlib) (11.2.1)\n",
      "Requirement already satisfied: pyparsing>=2.3.1 in /home/horte/miniconda3/envs/rl_course/lib/python3.10/site-packages (from matplotlib) (3.2.5)\n",
      "Requirement already satisfied: python-dateutil>=2.7 in /home/horte/.local/lib/python3.10/site-packages (from matplotlib) (2.9.0.post0)\n",
      "Requirement already satisfied: pandas in /home/horte/.local/lib/python3.10/site-packages (from stable-baselines3) (2.2.3)\n",
      "Requirement already satisfied: filelock in /home/horte/miniconda3/envs/rl_course/lib/python3.10/site-packages (from torch) (3.20.0)\n",
      "Requirement already satisfied: sympy>=1.13.3 in /home/horte/miniconda3/envs/rl_course/lib/python3.10/site-packages (from torch) (1.14.0)\n",
      "Requirement already satisfied: networkx>=2.5.1 in /home/horte/miniconda3/envs/rl_course/lib/python3.10/site-packages (from torch) (3.4.2)\n",
      "Requirement already satisfied: jinja2 in /home/horte/.local/lib/python3.10/site-packages (from torch) (3.1.6)\n",
      "Requirement already satisfied: fsspec>=0.8.5 in /home/horte/miniconda3/envs/rl_course/lib/python3.10/site-packages (from torch) (2025.9.0)\n",
      "Requirement already satisfied: nvidia-cuda-nvrtc-cu12==12.8.93 in /home/horte/miniconda3/envs/rl_course/lib/python3.10/site-packages (from torch) (12.8.93)\n",
      "Requirement already satisfied: nvidia-cuda-runtime-cu12==12.8.90 in /home/horte/miniconda3/envs/rl_course/lib/python3.10/site-packages (from torch) (12.8.90)\n",
      "Requirement already satisfied: nvidia-cuda-cupti-cu12==12.8.90 in /home/horte/miniconda3/envs/rl_course/lib/python3.10/site-packages (from torch) (12.8.90)\n",
      "Requirement already satisfied: nvidia-cudnn-cu12==9.10.2.21 in /home/horte/miniconda3/envs/rl_course/lib/python3.10/site-packages (from torch) (9.10.2.21)\n",
      "Requirement already satisfied: nvidia-cublas-cu12==12.8.4.1 in /home/horte/miniconda3/envs/rl_course/lib/python3.10/site-packages (from torch) (12.8.4.1)\n",
      "Requirement already satisfied: nvidia-cufft-cu12==11.3.3.83 in /home/horte/miniconda3/envs/rl_course/lib/python3.10/site-packages (from torch) (11.3.3.83)\n",
      "Requirement already satisfied: nvidia-curand-cu12==10.3.9.90 in /home/horte/miniconda3/envs/rl_course/lib/python3.10/site-packages (from torch) (10.3.9.90)\n",
      "Requirement already satisfied: nvidia-cusolver-cu12==11.7.3.90 in /home/horte/miniconda3/envs/rl_course/lib/python3.10/site-packages (from torch) (11.7.3.90)\n",
      "Requirement already satisfied: nvidia-cusparse-cu12==12.5.8.93 in /home/horte/miniconda3/envs/rl_course/lib/python3.10/site-packages (from torch) (12.5.8.93)\n",
      "Requirement already satisfied: nvidia-cusparselt-cu12==0.7.1 in /home/horte/miniconda3/envs/rl_course/lib/python3.10/site-packages (from torch) (0.7.1)\n",
      "Requirement already satisfied: nvidia-nccl-cu12==2.27.5 in /home/horte/miniconda3/envs/rl_course/lib/python3.10/site-packages (from torch) (2.27.5)\n",
      "Requirement already satisfied: nvidia-nvshmem-cu12==3.3.20 in /home/horte/miniconda3/envs/rl_course/lib/python3.10/site-packages (from torch) (3.3.20)\n",
      "Requirement already satisfied: nvidia-nvtx-cu12==12.8.90 in /home/horte/miniconda3/envs/rl_course/lib/python3.10/site-packages (from torch) (12.8.90)\n",
      "Requirement already satisfied: nvidia-nvjitlink-cu12==12.8.93 in /home/horte/miniconda3/envs/rl_course/lib/python3.10/site-packages (from torch) (12.8.93)\n",
      "Requirement already satisfied: nvidia-cufile-cu12==1.13.1.3 in /home/horte/miniconda3/envs/rl_course/lib/python3.10/site-packages (from torch) (1.13.1.3)\n",
      "Requirement already satisfied: triton==3.5.0 in /home/horte/miniconda3/envs/rl_course/lib/python3.10/site-packages (from torch) (3.5.0)\n",
      "Requirement already satisfied: gym<1.0.0,>=0.15.0 in /home/horte/miniconda3/envs/rl_course/lib/python3.10/site-packages (from procgen) (0.26.2)\n",
      "Requirement already satisfied: gym3<1.0.0,>=0.3.3 in /home/horte/miniconda3/envs/rl_course/lib/python3.10/site-packages (from procgen) (0.3.3)\n",
      "Requirement already satisfied: gym_notices>=0.0.4 in /home/horte/miniconda3/envs/rl_course/lib/python3.10/site-packages (from gym<1.0.0,>=0.15.0->procgen) (0.1.0)\n",
      "Requirement already satisfied: cffi<2.0.0,>=1.13.0 in /home/horte/.local/lib/python3.10/site-packages (from gym3<1.0.0,>=0.3.3->procgen) (1.17.1)\n",
      "Requirement already satisfied: imageio<3.0.0,>=2.6.0 in /home/horte/miniconda3/envs/rl_course/lib/python3.10/site-packages (from gym3<1.0.0,>=0.3.3->procgen) (2.37.0)\n",
      "Requirement already satisfied: imageio-ffmpeg<0.4.0,>=0.3.0 in /home/horte/miniconda3/envs/rl_course/lib/python3.10/site-packages (from gym3<1.0.0,>=0.3.3->procgen) (0.3.0)\n",
      "Requirement already satisfied: glfw<2.0.0,>=1.8.6 in /home/horte/miniconda3/envs/rl_course/lib/python3.10/site-packages (from gym3<1.0.0,>=0.3.3->procgen) (1.12.0)\n",
      "Requirement already satisfied: moderngl<6.0.0,>=5.5.4 in /home/horte/miniconda3/envs/rl_course/lib/python3.10/site-packages (from gym3<1.0.0,>=0.3.3->procgen) (5.12.0)\n",
      "Requirement already satisfied: pycparser in /home/horte/.local/lib/python3.10/site-packages (from cffi<2.0.0,>=1.13.0->gym3<1.0.0,>=0.3.3->procgen) (2.22)\n",
      "Requirement already satisfied: glcontext>=3.0.0 in /home/horte/miniconda3/envs/rl_course/lib/python3.10/site-packages (from moderngl<6.0.0,>=5.5.4->gym3<1.0.0,>=0.3.3->procgen) (3.0.0)\n",
      "Requirement already satisfied: comm>=0.1.1 in /home/horte/.local/lib/python3.10/site-packages (from ipykernel) (0.2.2)\n",
      "Requirement already satisfied: debugpy>=1.6.5 in /home/horte/.local/lib/python3.10/site-packages (from ipykernel) (1.8.14)\n",
      "Requirement already satisfied: ipython>=7.23.1 in /home/horte/.local/lib/python3.10/site-packages (from ipykernel) (8.36.0)\n",
      "Requirement already satisfied: jupyter-client>=6.1.12 in /home/horte/.local/lib/python3.10/site-packages (from ipykernel) (8.6.3)\n",
      "Requirement already satisfied: jupyter-core!=5.0.*,>=4.12 in /home/horte/.local/lib/python3.10/site-packages (from ipykernel) (5.8.1)\n",
      "Requirement already satisfied: matplotlib-inline>=0.1 in /home/horte/.local/lib/python3.10/site-packages (from ipykernel) (0.1.7)\n",
      "Requirement already satisfied: nest-asyncio in /home/horte/.local/lib/python3.10/site-packages (from ipykernel) (1.6.0)\n",
      "Requirement already satisfied: psutil in /home/horte/miniconda3/envs/rl_course/lib/python3.10/site-packages (from ipykernel) (7.1.0)\n",
      "Requirement already satisfied: pyzmq>=24 in /home/horte/.local/lib/python3.10/site-packages (from ipykernel) (26.4.0)\n",
      "Requirement already satisfied: tornado>=6.1 in /home/horte/.local/lib/python3.10/site-packages (from ipykernel) (6.5.1)\n",
      "Requirement already satisfied: traitlets>=5.4.0 in /home/horte/.local/lib/python3.10/site-packages (from ipykernel) (5.14.3)\n",
      "Requirement already satisfied: decorator in /home/horte/.local/lib/python3.10/site-packages (from ipython>=7.23.1->ipykernel) (5.2.1)\n",
      "Requirement already satisfied: exceptiongroup in /home/horte/.local/lib/python3.10/site-packages (from ipython>=7.23.1->ipykernel) (1.3.0)\n",
      "Requirement already satisfied: jedi>=0.16 in /home/horte/.local/lib/python3.10/site-packages (from ipython>=7.23.1->ipykernel) (0.19.2)\n",
      "Requirement already satisfied: pexpect>4.3 in /home/horte/miniconda3/envs/rl_course/lib/python3.10/site-packages (from ipython>=7.23.1->ipykernel) (4.9.0)\n",
      "Requirement already satisfied: prompt_toolkit<3.1.0,>=3.0.41 in /home/horte/.local/lib/python3.10/site-packages (from ipython>=7.23.1->ipykernel) (3.0.51)\n",
      "Requirement already satisfied: pygments>=2.4.0 in /home/horte/.local/lib/python3.10/site-packages (from ipython>=7.23.1->ipykernel) (2.19.1)\n",
      "Requirement already satisfied: stack_data in /home/horte/.local/lib/python3.10/site-packages (from ipython>=7.23.1->ipykernel) (0.6.3)\n",
      "Requirement already satisfied: wcwidth in /home/horte/.local/lib/python3.10/site-packages (from prompt_toolkit<3.1.0,>=3.0.41->ipython>=7.23.1->ipykernel) (0.2.13)\n",
      "Requirement already satisfied: parso<0.9.0,>=0.8.4 in /home/horte/.local/lib/python3.10/site-packages (from jedi>=0.16->ipython>=7.23.1->ipykernel) (0.8.4)\n",
      "Requirement already satisfied: platformdirs>=2.5 in /home/horte/.local/lib/python3.10/site-packages (from jupyter-core!=5.0.*,>=4.12->ipykernel) (4.3.8)\n",
      "Requirement already satisfied: ptyprocess>=0.5 in /home/horte/miniconda3/envs/rl_course/lib/python3.10/site-packages (from pexpect>4.3->ipython>=7.23.1->ipykernel) (0.7.0)\n",
      "Requirement already satisfied: six>=1.5 in /home/horte/miniconda3/envs/rl_course/lib/python3.10/site-packages (from python-dateutil>=2.7->matplotlib) (1.17.0)\n",
      "Requirement already satisfied: mpmath<1.4,>=1.1.0 in /home/horte/miniconda3/envs/rl_course/lib/python3.10/site-packages (from sympy>=1.13.3->torch) (1.3.0)\n",
      "Requirement already satisfied: MarkupSafe>=2.0 in /home/horte/.local/lib/python3.10/site-packages (from jinja2->torch) (3.0.2)\n",
      "Requirement already satisfied: pytz>=2020.1 in /home/horte/miniconda3/envs/rl_course/lib/python3.10/site-packages (from pandas->stable-baselines3) (2025.2)\n",
      "Requirement already satisfied: tzdata>=2022.7 in /home/horte/.local/lib/python3.10/site-packages (from pandas->stable-baselines3) (2025.2)\n",
      "Requirement already satisfied: executing>=1.2.0 in /home/horte/.local/lib/python3.10/site-packages (from stack_data->ipython>=7.23.1->ipykernel) (2.2.0)\n",
      "Requirement already satisfied: asttokens>=2.1.0 in /home/horte/.local/lib/python3.10/site-packages (from stack_data->ipython>=7.23.1->ipykernel) (3.0.0)\n",
      "Requirement already satisfied: pure-eval in /home/horte/.local/lib/python3.10/site-packages (from stack_data->ipython>=7.23.1->ipykernel) (0.2.3)\n"
     ]
    }
   ],
   "source": [
    "!pip install \"gymnasium[classic-control]\" numpy matplotlib stable-baselines3 torch procgen pybullet ipykernel"
   ]
  },
  {
   "cell_type": "markdown",
   "id": "6929cc49",
   "metadata": {},
   "source": [
    "## The RL Cycle (CartPole Game)\n",
    "The CartPole game is a gem with the goal of balancing a pendulum acting on a horizontal cart. A reward of +1 is provided for every timestep when the pendulum is in the upright position. The episode ends when it is too unbalanced or it manages to balance itself for more than 200 timesteps."
   ]
  },
  {
   "cell_type": "code",
   "execution_count": 2,
   "id": "2629375f",
   "metadata": {},
   "outputs": [
    {
     "name": "stderr",
     "output_type": "stream",
     "text": [
      "/home/horte/.local/lib/python3.10/site-packages/pygame/pkgdata.py:25: UserWarning: pkg_resources is deprecated as an API. See https://setuptools.pypa.io/en/latest/pkg_resources.html. The pkg_resources package is slated for removal as early as 2025-11-30. Refrain from using this package or pin to Setuptools<81.\n",
      "  from pkg_resources import resource_stream, resource_exists\n"
     ]
    },
    {
     "data": {
      "image/png": "[encoded data removed]",
      "text/plain": [
       "<Figure size 640x480 with 1 Axes>"
      ]
     },
     "metadata": {},
     "output_type": "display_data"
    },
    {
     "data": {
      "image/png": "[encoded data removed]",
      "text/plain": [
       "<Figure size 640x480 with 1 Axes>"
      ]
     },
     "metadata": {},
     "output_type": "display_data"
    },
    {
     "data": {
      "image/png": "[encoded data removed]",
      "text/plain": [
       "<Figure size 640x480 with 1 Axes>"
      ]
     },
     "metadata": {},
     "output_type": "display_data"
    },
    {
     "data": {
      "image/png": "[encoded data removed]",
      "text/plain": [
       "<Figure size 640x480 with 1 Axes>"
      ]
     },
     "metadata": {},
     "output_type": "display_data"
    },
    {
     "data": {
      "image/png": "[encoded data removed]",
      "text/plain": [
       "<Figure size 640x480 with 1 Axes>"
      ]
     },
     "metadata": {},
     "output_type": "display_data"
    },
    {
     "data": {
      "image/png": "[encoded data removed]",
      "text/plain": [
       "<Figure size 640x480 with 1 Axes>"
      ]
     },
     "metadata": {},
     "output_type": "display_data"
    },
    {
     "data": {
      "image/png": "[encoded data removed]",
      "text/plain": [
       "<Figure size 640x480 with 1 Axes>"
      ]
     },
     "metadata": {},
     "output_type": "display_data"
    },
    {
     "data": {
      "image/png": "[encoded data removed]",
      "text/plain": [
       "<Figure size 640x480 with 1 Axes>"
      ]
     },
     "metadata": {},
     "output_type": "display_data"
    },
    {
     "data": {
      "image/png": "[encoded data removed]",
      "text/plain": [
       "<Figure size 640x480 with 1 Axes>"
      ]
     },
     "metadata": {},
     "output_type": "display_data"
    },
    {
     "data": {
      "image/png": "[encoded data removed]",
      "text/plain": [
       "<Figure size 640x480 with 1 Axes>"
      ]
     },
     "metadata": {},
     "output_type": "display_data"
    }
   ],
   "source": [
    "import gymnasium as gym\n",
    "import matplotlib.pyplot as plt\n",
    "\n",
    "# create the environment \n",
    "env = gym.make(\"CartPole-v1\", render_mode=\"rgb_array\")\n",
    "# reset the environment before starting\n",
    "obs, info = env.reset()\n",
    "\n",
    "frames = []\n",
    "\n",
    "# loop 10 times\n",
    "for i in range(10):\n",
    "    # take a random action\n",
    "    env.step(env.action_space.sample())\n",
    "    # render the game\n",
    "    frame = env.render() \n",
    "    frames.append(frame)\n",
    "\n",
    "# close the environment\n",
    "env.close()\n",
    "\n",
    "# display game frames\n",
    "for frame in frames:\n",
    "    plt.imshow(frame)\n",
    "    plt.axis('off')\n",
    "    plt.show()\n"
   ]
  },
  {
   "cell_type": "markdown",
   "id": "8158f1b4",
   "metadata": {},
   "source": [
    "![CartPole example](images/cartpole.png)"
   ]
  },
  {
   "cell_type": "code",
   "execution_count": 27,
   "id": "20aa381d",
   "metadata": {},
   "outputs": [
    {
     "name": "stdout",
     "output_type": "stream",
     "text": [
      "Episode 0 finished, reward:14\n",
      "Episode 1 finished, reward:20\n",
      "Episode 2 finished, reward:19\n",
      "Episode 3 finished, reward:32\n",
      "Episode 4 finished, reward:20\n",
      "Episode 5 finished, reward:26\n",
      "Episode 6 finished, reward:28\n",
      "Episode 7 finished, reward:9\n",
      "Episode 8 finished, reward:21\n",
      "Episode 9 finished, reward:26\n"
     ]
    },
    {
     "name": "stderr",
     "output_type": "stream",
     "text": [
      "/home/horte/miniconda3/envs/rl_course/lib/python3.10/site-packages/gym/utils/passive_env_checker.py:233: DeprecationWarning: `np.bool8` is a deprecated alias for `np.bool_`.  (Deprecated NumPy 1.24)\n",
      "  if not isinstance(terminated, (bool, np.bool8)):\n"
     ]
    }
   ],
   "source": [
    "\n",
    "import gym\n",
    "\n",
    "# create and initialize the environment\n",
    "env = gym.make(\"CartPole-v1\")\n",
    "env.reset()\n",
    "\n",
    "# play 10 games\n",
    "for i in range(10):\n",
    "    # initialize the variables\n",
    "    done = False\n",
    "    game_rew = 0\n",
    "\n",
    "    while not done:\n",
    "        # choose a random action\n",
    "        action = env.action_space.sample()\n",
    "        # take a step in the environment\n",
    "        new_obs, rew, terminated, truncated, info = env.step(action)\n",
    "        game_rew += rew\n",
    "        done = terminated or truncated\n",
    "    \n",
    "        # when is done, print the cumulative reward of the game and reset the environment\n",
    "        if done:\n",
    "            print('Episode %d finished, reward:%d' % (i, game_rew))\n",
    "            env.reset()"
   ]
  },
  {
   "cell_type": "markdown",
   "id": "8a951cc8",
   "metadata": {},
   "source": [
    "## Open Source Environments\n",
    "There are many open source environments that are built to tackle specific problems.\n",
    "\n",
    "- [CoinRun](https://github.com/openai/coinrun).\n",
    "- [Gymnasium](https://gymnasium.farama.org/).\n",
    "    Environments: [Classic control](https://gymnasium.farama.org/environments/classic_control/), [Box2D](https://gymnasium.farama.org/environments/box2d/), [Toy Text](https://gymnasium.farama.org/environments/toy_text/), [MuJoCo](https://gymnasium.farama.org/environments/mujoco/), [Atari](https://ale.farama.org/environments/)\n",
    "- [Duckietown](https://github.com/duckietown/gym-duckietown).\n",
    "- [DeepMindLab](https://github.com/google-deepmind/lab)."
   ]
  }
 ],
 "metadata": {
  "kernelspec": {
   "display_name": "rl_course",
   "language": "python",
   "name": "python3"
  },
  "language_info": {
   "codemirror_mode": {
    "name": "ipython",
    "version": 3
   },
   "file_extension": ".py",
   "mimetype": "text/x-python",
   "name": "python",
   "nbconvert_exporter": "python",
   "pygments_lexer": "ipython3",
   "version": "3.10.19"
  }
 },
 "nbformat": 4,
 "nbformat_minor": 5
}
